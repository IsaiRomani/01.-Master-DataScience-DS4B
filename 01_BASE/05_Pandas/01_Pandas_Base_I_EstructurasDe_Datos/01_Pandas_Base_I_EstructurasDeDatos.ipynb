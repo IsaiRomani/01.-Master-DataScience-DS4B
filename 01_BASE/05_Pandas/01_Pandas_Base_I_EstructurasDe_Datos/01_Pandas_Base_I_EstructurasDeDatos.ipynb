{
 "cells": [
  {
   "cell_type": "markdown",
   "metadata": {},
   "source": [
    "# PANDAS BASE I: PRIMEROS PASOS Y ESTRUCTURAS DE DATOS"
   ]
  },
  {
   "cell_type": "markdown",
   "metadata": {},
   "source": [
    "## POR QUÉ PANDAS"
   ]
  },
  {
   "cell_type": "markdown",
   "metadata": {},
   "source": [
    "Habrás visto que para hacer data science en Python hay que aprender diferentes tecnologías: Python, Numpy, Pandas, ...\n",
    "\n",
    "El motivo es que unas están basadas en otras pero aportan lo que las otras no tienen. Por ejemplo:\n",
    "\n",
    "* Python es la base, y aporta lo necesario desde el punto de vista de programación: bucles, funciones, etc. Pero no tiene una estructura de datos apropiada para trabajar analíticamente y de forma rápida con columnas de datos\n",
    "* Numpy soluciona eso, aportando los arrays. Pero en Numpy todo el array tiene que ser del mismo tipo de datos, y en data science tenemos que manejar varios tipos de información mezclados\n",
    "* Pandas soluciona eso, introduciendo una estructura de datos que sí es 100% apropiada para data science: el dataframe, que en el fondo es como una concatenación de columnas, pero que pueden ser de diferentes tipos"
   ]
  },
  {
   "cell_type": "markdown",
   "metadata": {},
   "source": [
    "## ESTRUCTURAS DE DATOS"
   ]
  },
  {
   "cell_type": "markdown",
   "metadata": {},
   "source": [
    "Pandas tiene 2 grandes estructuras de datos:\n",
    "\n",
    "* Series: son como columnas\n",
    "* Dataframes: son como tablas, aunque internamente son uniones de columnas\n",
    "\n",
    "Muchos métodos existen para ambas pero otros son propios de cada estructura, por tanto en cada momento es útil ser consciente de con qué estamos trabajando.\n",
    "\n",
    "Hay otro elemento de la estructura de Pandas que es muy importante, tanto en Series como en Dataframes, es el índice (index).\n",
    "\n",
    "El index como tal nos da el índice de las filas, pero también está columns, que es el índice de las columnas y también es un objeto index.\n",
    "\n",
    "En este módulo vamos a aprender sobre las Series y los DataFrames y cómo crearlos a partir de otras estructuras que ya conocemos como listas, arrays o diccionarios."
   ]
  },
  {
   "cell_type": "markdown",
   "metadata": {},
   "source": [
    "## INSTALACIÓN"
   ]
  },
  {
   "cell_type": "markdown",
   "metadata": {},
   "source": [
    "conda install pandas"
   ]
  },
  {
   "cell_type": "markdown",
   "metadata": {},
   "source": [
    "## IMPORTACIÓN"
   ]
  },
  {
   "cell_type": "code",
   "execution_count": 2,
   "metadata": {},
   "outputs": [],
   "source": [
    "import pandas as pd"
   ]
  },
  {
   "cell_type": "markdown",
   "metadata": {},
   "source": [
    "## CONFIGURACIÓN"
   ]
  },
  {
   "cell_type": "markdown",
   "metadata": {},
   "source": [
    "Para que el autocompletar funcione más rápido:"
   ]
  },
  {
   "cell_type": "code",
   "execution_count": 2,
   "metadata": {},
   "outputs": [],
   "source": [
    "%config IPCompleter.greedy=True"
   ]
  },
  {
   "cell_type": "markdown",
   "metadata": {},
   "source": [
    "Documentación de Pandas\n",
    "https://pandas.pydata.org/pandas-docs/stable/reference/index.html"
   ]
  },
  {
   "cell_type": "markdown",
   "metadata": {},
   "source": [
    "Datos para los ejemplos:"
   ]
  },
  {
   "cell_type": "code",
   "execution_count": 12,
   "metadata": {},
   "outputs": [],
   "source": [
    "# datos = '../../../00_DATASETS/DataSetKivaCreditScoring.csv' Esta ruta es del prof.\n",
    "datos = './DataSetKivaCreditScoring.csv'"
   ]
  },
  {
   "cell_type": "markdown",
   "metadata": {},
   "source": [
    "Registros a mostrar por defecto:\n",
    "\n",
    "pd.options.display.min_rows: por defecto es 10 (5 superiores y 5 inferiores). Pero le podemos poner lo que queramos"
   ]
  },
  {
   "cell_type": "code",
   "execution_count": 15,
   "metadata": {},
   "outputs": [],
   "source": [
    "# Vemos el valor por defecto, pero podemos indicar el numero\n",
    "pd.options.display.min_rows = 6"
   ]
  },
  {
   "cell_type": "code",
   "execution_count": 14,
   "metadata": {},
   "outputs": [
    {
     "data": {
      "text/html": [
       "<div>\n",
       "<style scoped>\n",
       "    .dataframe tbody tr th:only-of-type {\n",
       "        vertical-align: middle;\n",
       "    }\n",
       "\n",
       "    .dataframe tbody tr th {\n",
       "        vertical-align: top;\n",
       "    }\n",
       "\n",
       "    .dataframe thead th {\n",
       "        text-align: right;\n",
       "    }\n",
       "</style>\n",
       "<table border=\"1\" class=\"dataframe\">\n",
       "  <thead>\n",
       "    <tr style=\"text-align: right;\">\n",
       "      <th></th>\n",
       "      <th>id</th>\n",
       "      <th>Funded Date</th>\n",
       "      <th>Funded Amount</th>\n",
       "      <th>Country</th>\n",
       "      <th>Country Code</th>\n",
       "      <th>Loan Amount</th>\n",
       "      <th>Paid Date</th>\n",
       "      <th>Paid Amount</th>\n",
       "      <th>Activity</th>\n",
       "      <th>Sector</th>\n",
       "      <th>Delinquent</th>\n",
       "      <th>Name</th>\n",
       "      <th>Use</th>\n",
       "      <th>Status</th>\n",
       "    </tr>\n",
       "  </thead>\n",
       "  <tbody>\n",
       "    <tr>\n",
       "      <th>0</th>\n",
       "      <td>84</td>\n",
       "      <td>2005-03-31T06:27:55Z</td>\n",
       "      <td>500</td>\n",
       "      <td>Uganda</td>\n",
       "      <td>UG</td>\n",
       "      <td>500</td>\n",
       "      <td>2005-12-13T12:00:40Z</td>\n",
       "      <td>500.0</td>\n",
       "      <td>Butcher Shop</td>\n",
       "      <td>Food</td>\n",
       "      <td>False</td>\n",
       "      <td>Justine</td>\n",
       "      <td>Buy bulls, open a butcher shop</td>\n",
       "      <td>paid</td>\n",
       "    </tr>\n",
       "    <tr>\n",
       "      <th>1</th>\n",
       "      <td>85</td>\n",
       "      <td>2005-03-31T06:27:55Z</td>\n",
       "      <td>500</td>\n",
       "      <td>Uganda</td>\n",
       "      <td>UG</td>\n",
       "      <td>500</td>\n",
       "      <td>2005-12-13T12:04:33Z</td>\n",
       "      <td>500.0</td>\n",
       "      <td>Food Production/Sales</td>\n",
       "      <td>Food</td>\n",
       "      <td>False</td>\n",
       "      <td>Geoffrey</td>\n",
       "      <td>Buying more produce each time for greater profit</td>\n",
       "      <td>paid</td>\n",
       "    </tr>\n",
       "    <tr>\n",
       "      <th>2</th>\n",
       "      <td>86</td>\n",
       "      <td>2005-03-31T06:27:55Z</td>\n",
       "      <td>500</td>\n",
       "      <td>Uganda</td>\n",
       "      <td>UG</td>\n",
       "      <td>500</td>\n",
       "      <td>2005-12-13T12:06:56Z</td>\n",
       "      <td>500.0</td>\n",
       "      <td>Animal Sales</td>\n",
       "      <td>Agriculture</td>\n",
       "      <td>False</td>\n",
       "      <td>Apollo</td>\n",
       "      <td>Increase number of goats bought and sold each ...</td>\n",
       "      <td>paid</td>\n",
       "    </tr>\n",
       "    <tr>\n",
       "      <th>...</th>\n",
       "      <td>...</td>\n",
       "      <td>...</td>\n",
       "      <td>...</td>\n",
       "      <td>...</td>\n",
       "      <td>...</td>\n",
       "      <td>...</td>\n",
       "      <td>...</td>\n",
       "      <td>...</td>\n",
       "      <td>...</td>\n",
       "      <td>...</td>\n",
       "      <td>...</td>\n",
       "      <td>...</td>\n",
       "      <td>...</td>\n",
       "      <td>...</td>\n",
       "    </tr>\n",
       "    <tr>\n",
       "      <th>5143</th>\n",
       "      <td>5257</td>\n",
       "      <td>2007-06-02T03:57:56Z</td>\n",
       "      <td>1000</td>\n",
       "      <td>Ghana</td>\n",
       "      <td>GH</td>\n",
       "      <td>1000</td>\n",
       "      <td>2008-03-13T10:01:32Z</td>\n",
       "      <td>1000.0</td>\n",
       "      <td>Construction</td>\n",
       "      <td>Construction</td>\n",
       "      <td>False</td>\n",
       "      <td>Abla</td>\n",
       "      <td>Working capital</td>\n",
       "      <td>paid</td>\n",
       "    </tr>\n",
       "    <tr>\n",
       "      <th>5144</th>\n",
       "      <td>5258</td>\n",
       "      <td>2007-03-24T06:01:16Z</td>\n",
       "      <td>1100</td>\n",
       "      <td>Ghana</td>\n",
       "      <td>GH</td>\n",
       "      <td>1100</td>\n",
       "      <td>2007-12-26T10:15:55Z</td>\n",
       "      <td>1100.0</td>\n",
       "      <td>Construction</td>\n",
       "      <td>Construction</td>\n",
       "      <td>False</td>\n",
       "      <td>Manaa</td>\n",
       "      <td>Working capital</td>\n",
       "      <td>paid</td>\n",
       "    </tr>\n",
       "    <tr>\n",
       "      <th>5145</th>\n",
       "      <td>5259</td>\n",
       "      <td>2007-06-05T04:56:45Z</td>\n",
       "      <td>800</td>\n",
       "      <td>Ghana</td>\n",
       "      <td>GH</td>\n",
       "      <td>800</td>\n",
       "      <td>2008-03-13T10:01:33Z</td>\n",
       "      <td>800.0</td>\n",
       "      <td>Food Market</td>\n",
       "      <td>Food</td>\n",
       "      <td>False</td>\n",
       "      <td>Beauty</td>\n",
       "      <td>Working capital</td>\n",
       "      <td>paid</td>\n",
       "    </tr>\n",
       "  </tbody>\n",
       "</table>\n",
       "<p>5146 rows × 14 columns</p>\n",
       "</div>"
      ],
      "text/plain": [
       "        id           Funded Date  Funded Amount Country Country Code  \\\n",
       "0       84  2005-03-31T06:27:55Z            500  Uganda           UG   \n",
       "1       85  2005-03-31T06:27:55Z            500  Uganda           UG   \n",
       "2       86  2005-03-31T06:27:55Z            500  Uganda           UG   \n",
       "...    ...                   ...            ...     ...          ...   \n",
       "5143  5257  2007-06-02T03:57:56Z           1000   Ghana           GH   \n",
       "5144  5258  2007-03-24T06:01:16Z           1100   Ghana           GH   \n",
       "5145  5259  2007-06-05T04:56:45Z            800   Ghana           GH   \n",
       "\n",
       "      Loan Amount             Paid Date  Paid Amount               Activity  \\\n",
       "0             500  2005-12-13T12:00:40Z        500.0           Butcher Shop   \n",
       "1             500  2005-12-13T12:04:33Z        500.0  Food Production/Sales   \n",
       "2             500  2005-12-13T12:06:56Z        500.0           Animal Sales   \n",
       "...           ...                   ...          ...                    ...   \n",
       "5143         1000  2008-03-13T10:01:32Z       1000.0           Construction   \n",
       "5144         1100  2007-12-26T10:15:55Z       1100.0           Construction   \n",
       "5145          800  2008-03-13T10:01:33Z        800.0            Food Market   \n",
       "\n",
       "            Sector  Delinquent      Name  \\\n",
       "0             Food       False   Justine   \n",
       "1             Food       False  Geoffrey   \n",
       "2      Agriculture       False    Apollo   \n",
       "...            ...         ...       ...   \n",
       "5143  Construction       False      Abla   \n",
       "5144  Construction       False     Manaa   \n",
       "5145          Food       False    Beauty   \n",
       "\n",
       "                                                    Use Status  \n",
       "0                        Buy bulls, open a butcher shop   paid  \n",
       "1      Buying more produce each time for greater profit   paid  \n",
       "2     Increase number of goats bought and sold each ...   paid  \n",
       "...                                                 ...    ...  \n",
       "5143                                    Working capital   paid  \n",
       "5144                                    Working capital   paid  \n",
       "5145                                    Working capital   paid  \n",
       "\n",
       "[5146 rows x 14 columns]"
      ]
     },
     "execution_count": 14,
     "metadata": {},
     "output_type": "execute_result"
    }
   ],
   "source": [
    "pd.read_csv(datos, sep=';')"
   ]
  },
  {
   "cell_type": "code",
   "execution_count": 16,
   "metadata": {},
   "outputs": [],
   "source": [
    "# Lo cambiamos por ej a 6\n",
    "pd.options.display.min_rows = 6"
   ]
  },
  {
   "cell_type": "code",
   "execution_count": 17,
   "metadata": {
    "scrolled": true
   },
   "outputs": [
    {
     "data": {
      "text/html": [
       "<div>\n",
       "<style scoped>\n",
       "    .dataframe tbody tr th:only-of-type {\n",
       "        vertical-align: middle;\n",
       "    }\n",
       "\n",
       "    .dataframe tbody tr th {\n",
       "        vertical-align: top;\n",
       "    }\n",
       "\n",
       "    .dataframe thead th {\n",
       "        text-align: right;\n",
       "    }\n",
       "</style>\n",
       "<table border=\"1\" class=\"dataframe\">\n",
       "  <thead>\n",
       "    <tr style=\"text-align: right;\">\n",
       "      <th></th>\n",
       "      <th>id</th>\n",
       "      <th>Funded Date</th>\n",
       "      <th>Funded Amount</th>\n",
       "      <th>Country</th>\n",
       "      <th>Country Code</th>\n",
       "      <th>Loan Amount</th>\n",
       "      <th>Paid Date</th>\n",
       "      <th>Paid Amount</th>\n",
       "      <th>Activity</th>\n",
       "      <th>Sector</th>\n",
       "      <th>Delinquent</th>\n",
       "      <th>Name</th>\n",
       "      <th>Use</th>\n",
       "      <th>Status</th>\n",
       "    </tr>\n",
       "  </thead>\n",
       "  <tbody>\n",
       "    <tr>\n",
       "      <th>0</th>\n",
       "      <td>84</td>\n",
       "      <td>2005-03-31T06:27:55Z</td>\n",
       "      <td>500</td>\n",
       "      <td>Uganda</td>\n",
       "      <td>UG</td>\n",
       "      <td>500</td>\n",
       "      <td>2005-12-13T12:00:40Z</td>\n",
       "      <td>500.0</td>\n",
       "      <td>Butcher Shop</td>\n",
       "      <td>Food</td>\n",
       "      <td>False</td>\n",
       "      <td>Justine</td>\n",
       "      <td>Buy bulls, open a butcher shop</td>\n",
       "      <td>paid</td>\n",
       "    </tr>\n",
       "    <tr>\n",
       "      <th>1</th>\n",
       "      <td>85</td>\n",
       "      <td>2005-03-31T06:27:55Z</td>\n",
       "      <td>500</td>\n",
       "      <td>Uganda</td>\n",
       "      <td>UG</td>\n",
       "      <td>500</td>\n",
       "      <td>2005-12-13T12:04:33Z</td>\n",
       "      <td>500.0</td>\n",
       "      <td>Food Production/Sales</td>\n",
       "      <td>Food</td>\n",
       "      <td>False</td>\n",
       "      <td>Geoffrey</td>\n",
       "      <td>Buying more produce each time for greater profit</td>\n",
       "      <td>paid</td>\n",
       "    </tr>\n",
       "    <tr>\n",
       "      <th>2</th>\n",
       "      <td>86</td>\n",
       "      <td>2005-03-31T06:27:55Z</td>\n",
       "      <td>500</td>\n",
       "      <td>Uganda</td>\n",
       "      <td>UG</td>\n",
       "      <td>500</td>\n",
       "      <td>2005-12-13T12:06:56Z</td>\n",
       "      <td>500.0</td>\n",
       "      <td>Animal Sales</td>\n",
       "      <td>Agriculture</td>\n",
       "      <td>False</td>\n",
       "      <td>Apollo</td>\n",
       "      <td>Increase number of goats bought and sold each ...</td>\n",
       "      <td>paid</td>\n",
       "    </tr>\n",
       "    <tr>\n",
       "      <th>...</th>\n",
       "      <td>...</td>\n",
       "      <td>...</td>\n",
       "      <td>...</td>\n",
       "      <td>...</td>\n",
       "      <td>...</td>\n",
       "      <td>...</td>\n",
       "      <td>...</td>\n",
       "      <td>...</td>\n",
       "      <td>...</td>\n",
       "      <td>...</td>\n",
       "      <td>...</td>\n",
       "      <td>...</td>\n",
       "      <td>...</td>\n",
       "      <td>...</td>\n",
       "    </tr>\n",
       "    <tr>\n",
       "      <th>5143</th>\n",
       "      <td>5257</td>\n",
       "      <td>2007-06-02T03:57:56Z</td>\n",
       "      <td>1000</td>\n",
       "      <td>Ghana</td>\n",
       "      <td>GH</td>\n",
       "      <td>1000</td>\n",
       "      <td>2008-03-13T10:01:32Z</td>\n",
       "      <td>1000.0</td>\n",
       "      <td>Construction</td>\n",
       "      <td>Construction</td>\n",
       "      <td>False</td>\n",
       "      <td>Abla</td>\n",
       "      <td>Working capital</td>\n",
       "      <td>paid</td>\n",
       "    </tr>\n",
       "    <tr>\n",
       "      <th>5144</th>\n",
       "      <td>5258</td>\n",
       "      <td>2007-03-24T06:01:16Z</td>\n",
       "      <td>1100</td>\n",
       "      <td>Ghana</td>\n",
       "      <td>GH</td>\n",
       "      <td>1100</td>\n",
       "      <td>2007-12-26T10:15:55Z</td>\n",
       "      <td>1100.0</td>\n",
       "      <td>Construction</td>\n",
       "      <td>Construction</td>\n",
       "      <td>False</td>\n",
       "      <td>Manaa</td>\n",
       "      <td>Working capital</td>\n",
       "      <td>paid</td>\n",
       "    </tr>\n",
       "    <tr>\n",
       "      <th>5145</th>\n",
       "      <td>5259</td>\n",
       "      <td>2007-06-05T04:56:45Z</td>\n",
       "      <td>800</td>\n",
       "      <td>Ghana</td>\n",
       "      <td>GH</td>\n",
       "      <td>800</td>\n",
       "      <td>2008-03-13T10:01:33Z</td>\n",
       "      <td>800.0</td>\n",
       "      <td>Food Market</td>\n",
       "      <td>Food</td>\n",
       "      <td>False</td>\n",
       "      <td>Beauty</td>\n",
       "      <td>Working capital</td>\n",
       "      <td>paid</td>\n",
       "    </tr>\n",
       "  </tbody>\n",
       "</table>\n",
       "<p>5146 rows × 14 columns</p>\n",
       "</div>"
      ],
      "text/plain": [
       "        id           Funded Date  Funded Amount Country Country Code  \\\n",
       "0       84  2005-03-31T06:27:55Z            500  Uganda           UG   \n",
       "1       85  2005-03-31T06:27:55Z            500  Uganda           UG   \n",
       "2       86  2005-03-31T06:27:55Z            500  Uganda           UG   \n",
       "...    ...                   ...            ...     ...          ...   \n",
       "5143  5257  2007-06-02T03:57:56Z           1000   Ghana           GH   \n",
       "5144  5258  2007-03-24T06:01:16Z           1100   Ghana           GH   \n",
       "5145  5259  2007-06-05T04:56:45Z            800   Ghana           GH   \n",
       "\n",
       "      Loan Amount             Paid Date  Paid Amount               Activity  \\\n",
       "0             500  2005-12-13T12:00:40Z        500.0           Butcher Shop   \n",
       "1             500  2005-12-13T12:04:33Z        500.0  Food Production/Sales   \n",
       "2             500  2005-12-13T12:06:56Z        500.0           Animal Sales   \n",
       "...           ...                   ...          ...                    ...   \n",
       "5143         1000  2008-03-13T10:01:32Z       1000.0           Construction   \n",
       "5144         1100  2007-12-26T10:15:55Z       1100.0           Construction   \n",
       "5145          800  2008-03-13T10:01:33Z        800.0            Food Market   \n",
       "\n",
       "            Sector  Delinquent      Name  \\\n",
       "0             Food       False   Justine   \n",
       "1             Food       False  Geoffrey   \n",
       "2      Agriculture       False    Apollo   \n",
       "...            ...         ...       ...   \n",
       "5143  Construction       False      Abla   \n",
       "5144  Construction       False     Manaa   \n",
       "5145          Food       False    Beauty   \n",
       "\n",
       "                                                    Use Status  \n",
       "0                        Buy bulls, open a butcher shop   paid  \n",
       "1      Buying more produce each time for greater profit   paid  \n",
       "2     Increase number of goats bought and sold each ...   paid  \n",
       "...                                                 ...    ...  \n",
       "5143                                    Working capital   paid  \n",
       "5144                                    Working capital   paid  \n",
       "5145                                    Working capital   paid  \n",
       "\n",
       "[5146 rows x 14 columns]"
      ]
     },
     "execution_count": 17,
     "metadata": {},
     "output_type": "execute_result"
    }
   ],
   "source": [
    "# Comprobamos\n",
    "pd.read_csv(datos, sep=';')"
   ]
  },
  {
   "cell_type": "markdown",
   "metadata": {},
   "source": [
    "## ESTRUCTURA DE SERIES Y DATAFRAMES"
   ]
  },
  {
   "cell_type": "markdown",
   "metadata": {},
   "source": [
    "Antes de continuar vamos a entender las principales partes de estas estructuras de datos.\n",
    "\n",
    "Vamos a comenzar con una serie."
   ]
  },
  {
   "cell_type": "markdown",
   "metadata": {},
   "source": [
    "### Estructura de un Series"
   ]
  },
  {
   "cell_type": "code",
   "execution_count": 8,
   "metadata": {},
   "outputs": [],
   "source": [
    "#Extraemos Funded Amount como Series"
   ]
  },
  {
   "cell_type": "code",
   "execution_count": 18,
   "metadata": {},
   "outputs": [],
   "source": [
    "df = pd.read_csv(datos, sep=';')"
   ]
  },
  {
   "cell_type": "code",
   "execution_count": 19,
   "metadata": {},
   "outputs": [
    {
     "data": {
      "text/html": [
       "<div>\n",
       "<style scoped>\n",
       "    .dataframe tbody tr th:only-of-type {\n",
       "        vertical-align: middle;\n",
       "    }\n",
       "\n",
       "    .dataframe tbody tr th {\n",
       "        vertical-align: top;\n",
       "    }\n",
       "\n",
       "    .dataframe thead th {\n",
       "        text-align: right;\n",
       "    }\n",
       "</style>\n",
       "<table border=\"1\" class=\"dataframe\">\n",
       "  <thead>\n",
       "    <tr style=\"text-align: right;\">\n",
       "      <th></th>\n",
       "      <th>id</th>\n",
       "      <th>Funded Date</th>\n",
       "      <th>Funded Amount</th>\n",
       "      <th>Country</th>\n",
       "      <th>Country Code</th>\n",
       "      <th>Loan Amount</th>\n",
       "      <th>Paid Date</th>\n",
       "      <th>Paid Amount</th>\n",
       "      <th>Activity</th>\n",
       "      <th>Sector</th>\n",
       "      <th>Delinquent</th>\n",
       "      <th>Name</th>\n",
       "      <th>Use</th>\n",
       "      <th>Status</th>\n",
       "    </tr>\n",
       "  </thead>\n",
       "  <tbody>\n",
       "    <tr>\n",
       "      <th>0</th>\n",
       "      <td>84</td>\n",
       "      <td>2005-03-31T06:27:55Z</td>\n",
       "      <td>500</td>\n",
       "      <td>Uganda</td>\n",
       "      <td>UG</td>\n",
       "      <td>500</td>\n",
       "      <td>2005-12-13T12:00:40Z</td>\n",
       "      <td>500.0</td>\n",
       "      <td>Butcher Shop</td>\n",
       "      <td>Food</td>\n",
       "      <td>False</td>\n",
       "      <td>Justine</td>\n",
       "      <td>Buy bulls, open a butcher shop</td>\n",
       "      <td>paid</td>\n",
       "    </tr>\n",
       "    <tr>\n",
       "      <th>1</th>\n",
       "      <td>85</td>\n",
       "      <td>2005-03-31T06:27:55Z</td>\n",
       "      <td>500</td>\n",
       "      <td>Uganda</td>\n",
       "      <td>UG</td>\n",
       "      <td>500</td>\n",
       "      <td>2005-12-13T12:04:33Z</td>\n",
       "      <td>500.0</td>\n",
       "      <td>Food Production/Sales</td>\n",
       "      <td>Food</td>\n",
       "      <td>False</td>\n",
       "      <td>Geoffrey</td>\n",
       "      <td>Buying more produce each time for greater profit</td>\n",
       "      <td>paid</td>\n",
       "    </tr>\n",
       "    <tr>\n",
       "      <th>2</th>\n",
       "      <td>86</td>\n",
       "      <td>2005-03-31T06:27:55Z</td>\n",
       "      <td>500</td>\n",
       "      <td>Uganda</td>\n",
       "      <td>UG</td>\n",
       "      <td>500</td>\n",
       "      <td>2005-12-13T12:06:56Z</td>\n",
       "      <td>500.0</td>\n",
       "      <td>Animal Sales</td>\n",
       "      <td>Agriculture</td>\n",
       "      <td>False</td>\n",
       "      <td>Apollo</td>\n",
       "      <td>Increase number of goats bought and sold each ...</td>\n",
       "      <td>paid</td>\n",
       "    </tr>\n",
       "    <tr>\n",
       "      <th>...</th>\n",
       "      <td>...</td>\n",
       "      <td>...</td>\n",
       "      <td>...</td>\n",
       "      <td>...</td>\n",
       "      <td>...</td>\n",
       "      <td>...</td>\n",
       "      <td>...</td>\n",
       "      <td>...</td>\n",
       "      <td>...</td>\n",
       "      <td>...</td>\n",
       "      <td>...</td>\n",
       "      <td>...</td>\n",
       "      <td>...</td>\n",
       "      <td>...</td>\n",
       "    </tr>\n",
       "    <tr>\n",
       "      <th>5143</th>\n",
       "      <td>5257</td>\n",
       "      <td>2007-06-02T03:57:56Z</td>\n",
       "      <td>1000</td>\n",
       "      <td>Ghana</td>\n",
       "      <td>GH</td>\n",
       "      <td>1000</td>\n",
       "      <td>2008-03-13T10:01:32Z</td>\n",
       "      <td>1000.0</td>\n",
       "      <td>Construction</td>\n",
       "      <td>Construction</td>\n",
       "      <td>False</td>\n",
       "      <td>Abla</td>\n",
       "      <td>Working capital</td>\n",
       "      <td>paid</td>\n",
       "    </tr>\n",
       "    <tr>\n",
       "      <th>5144</th>\n",
       "      <td>5258</td>\n",
       "      <td>2007-03-24T06:01:16Z</td>\n",
       "      <td>1100</td>\n",
       "      <td>Ghana</td>\n",
       "      <td>GH</td>\n",
       "      <td>1100</td>\n",
       "      <td>2007-12-26T10:15:55Z</td>\n",
       "      <td>1100.0</td>\n",
       "      <td>Construction</td>\n",
       "      <td>Construction</td>\n",
       "      <td>False</td>\n",
       "      <td>Manaa</td>\n",
       "      <td>Working capital</td>\n",
       "      <td>paid</td>\n",
       "    </tr>\n",
       "    <tr>\n",
       "      <th>5145</th>\n",
       "      <td>5259</td>\n",
       "      <td>2007-06-05T04:56:45Z</td>\n",
       "      <td>800</td>\n",
       "      <td>Ghana</td>\n",
       "      <td>GH</td>\n",
       "      <td>800</td>\n",
       "      <td>2008-03-13T10:01:33Z</td>\n",
       "      <td>800.0</td>\n",
       "      <td>Food Market</td>\n",
       "      <td>Food</td>\n",
       "      <td>False</td>\n",
       "      <td>Beauty</td>\n",
       "      <td>Working capital</td>\n",
       "      <td>paid</td>\n",
       "    </tr>\n",
       "  </tbody>\n",
       "</table>\n",
       "<p>5146 rows × 14 columns</p>\n",
       "</div>"
      ],
      "text/plain": [
       "        id           Funded Date  Funded Amount Country Country Code  \\\n",
       "0       84  2005-03-31T06:27:55Z            500  Uganda           UG   \n",
       "1       85  2005-03-31T06:27:55Z            500  Uganda           UG   \n",
       "2       86  2005-03-31T06:27:55Z            500  Uganda           UG   \n",
       "...    ...                   ...            ...     ...          ...   \n",
       "5143  5257  2007-06-02T03:57:56Z           1000   Ghana           GH   \n",
       "5144  5258  2007-03-24T06:01:16Z           1100   Ghana           GH   \n",
       "5145  5259  2007-06-05T04:56:45Z            800   Ghana           GH   \n",
       "\n",
       "      Loan Amount             Paid Date  Paid Amount               Activity  \\\n",
       "0             500  2005-12-13T12:00:40Z        500.0           Butcher Shop   \n",
       "1             500  2005-12-13T12:04:33Z        500.0  Food Production/Sales   \n",
       "2             500  2005-12-13T12:06:56Z        500.0           Animal Sales   \n",
       "...           ...                   ...          ...                    ...   \n",
       "5143         1000  2008-03-13T10:01:32Z       1000.0           Construction   \n",
       "5144         1100  2007-12-26T10:15:55Z       1100.0           Construction   \n",
       "5145          800  2008-03-13T10:01:33Z        800.0            Food Market   \n",
       "\n",
       "            Sector  Delinquent      Name  \\\n",
       "0             Food       False   Justine   \n",
       "1             Food       False  Geoffrey   \n",
       "2      Agriculture       False    Apollo   \n",
       "...            ...         ...       ...   \n",
       "5143  Construction       False      Abla   \n",
       "5144  Construction       False     Manaa   \n",
       "5145          Food       False    Beauty   \n",
       "\n",
       "                                                    Use Status  \n",
       "0                        Buy bulls, open a butcher shop   paid  \n",
       "1      Buying more produce each time for greater profit   paid  \n",
       "2     Increase number of goats bought and sold each ...   paid  \n",
       "...                                                 ...    ...  \n",
       "5143                                    Working capital   paid  \n",
       "5144                                    Working capital   paid  \n",
       "5145                                    Working capital   paid  \n",
       "\n",
       "[5146 rows x 14 columns]"
      ]
     },
     "execution_count": 19,
     "metadata": {},
     "output_type": "execute_result"
    }
   ],
   "source": [
    "df"
   ]
  },
  {
   "cell_type": "code",
   "execution_count": 21,
   "metadata": {},
   "outputs": [
    {
     "data": {
      "text/plain": [
       "0        500\n",
       "1        500\n",
       "2        500\n",
       "        ... \n",
       "5143    1000\n",
       "5144    1100\n",
       "5145     800\n",
       "Name: Funded Amount, Length: 5146, dtype: int64"
      ]
     },
     "execution_count": 21,
     "metadata": {},
     "output_type": "execute_result"
    }
   ],
   "source": [
    "df['Funded Amount']"
   ]
  },
  {
   "cell_type": "markdown",
   "metadata": {},
   "source": [
    "Analizamos sus componentes"
   ]
  },
  {
   "attachments": {
    "Elementos_Series-2.jpg": {
     "image/jpeg": "[encoded data removed]"
    }
   },
   "cell_type": "markdown",
   "metadata": {},
   "source": [
    "![Elementos_Series-2.jpg](attachment:Elementos_Series-2.jpg)"
   ]
  },
  {
   "cell_type": "markdown",
   "metadata": {},
   "source": [
    "### Estructura de un DataFrame"
   ]
  },
  {
   "cell_type": "code",
   "execution_count": 11,
   "metadata": {},
   "outputs": [
    {
     "data": {
      "text/html": [
       "<div>\n",
       "<style scoped>\n",
       "    .dataframe tbody tr th:only-of-type {\n",
       "        vertical-align: middle;\n",
       "    }\n",
       "\n",
       "    .dataframe tbody tr th {\n",
       "        vertical-align: top;\n",
       "    }\n",
       "\n",
       "    .dataframe thead th {\n",
       "        text-align: right;\n",
       "    }\n",
       "</style>\n",
       "<table border=\"1\" class=\"dataframe\">\n",
       "  <thead>\n",
       "    <tr style=\"text-align: right;\">\n",
       "      <th></th>\n",
       "      <th>id</th>\n",
       "      <th>Funded Date</th>\n",
       "      <th>Funded Amount</th>\n",
       "      <th>Country</th>\n",
       "      <th>Country Code</th>\n",
       "      <th>Loan Amount</th>\n",
       "      <th>Paid Date</th>\n",
       "      <th>Paid Amount</th>\n",
       "      <th>Activity</th>\n",
       "      <th>Sector</th>\n",
       "      <th>Delinquent</th>\n",
       "      <th>Name</th>\n",
       "      <th>Use</th>\n",
       "      <th>Status</th>\n",
       "    </tr>\n",
       "  </thead>\n",
       "  <tbody>\n",
       "    <tr>\n",
       "      <th>0</th>\n",
       "      <td>84</td>\n",
       "      <td>2005-03-31T06:27:55Z</td>\n",
       "      <td>500</td>\n",
       "      <td>Uganda</td>\n",
       "      <td>UG</td>\n",
       "      <td>500</td>\n",
       "      <td>2005-12-13T12:00:40Z</td>\n",
       "      <td>500.0</td>\n",
       "      <td>Butcher Shop</td>\n",
       "      <td>Food</td>\n",
       "      <td>False</td>\n",
       "      <td>Justine</td>\n",
       "      <td>Buy bulls, open a butcher shop</td>\n",
       "      <td>paid</td>\n",
       "    </tr>\n",
       "    <tr>\n",
       "      <th>1</th>\n",
       "      <td>85</td>\n",
       "      <td>2005-03-31T06:27:55Z</td>\n",
       "      <td>500</td>\n",
       "      <td>Uganda</td>\n",
       "      <td>UG</td>\n",
       "      <td>500</td>\n",
       "      <td>2005-12-13T12:04:33Z</td>\n",
       "      <td>500.0</td>\n",
       "      <td>Food Production/Sales</td>\n",
       "      <td>Food</td>\n",
       "      <td>False</td>\n",
       "      <td>Geoffrey</td>\n",
       "      <td>Buying more produce each time for greater profit</td>\n",
       "      <td>paid</td>\n",
       "    </tr>\n",
       "    <tr>\n",
       "      <th>2</th>\n",
       "      <td>86</td>\n",
       "      <td>2005-03-31T06:27:55Z</td>\n",
       "      <td>500</td>\n",
       "      <td>Uganda</td>\n",
       "      <td>UG</td>\n",
       "      <td>500</td>\n",
       "      <td>2005-12-13T12:06:56Z</td>\n",
       "      <td>500.0</td>\n",
       "      <td>Animal Sales</td>\n",
       "      <td>Agriculture</td>\n",
       "      <td>False</td>\n",
       "      <td>Apollo</td>\n",
       "      <td>Increase number of goats bought and sold each ...</td>\n",
       "      <td>paid</td>\n",
       "    </tr>\n",
       "    <tr>\n",
       "      <th>...</th>\n",
       "      <td>...</td>\n",
       "      <td>...</td>\n",
       "      <td>...</td>\n",
       "      <td>...</td>\n",
       "      <td>...</td>\n",
       "      <td>...</td>\n",
       "      <td>...</td>\n",
       "      <td>...</td>\n",
       "      <td>...</td>\n",
       "      <td>...</td>\n",
       "      <td>...</td>\n",
       "      <td>...</td>\n",
       "      <td>...</td>\n",
       "      <td>...</td>\n",
       "    </tr>\n",
       "    <tr>\n",
       "      <th>5143</th>\n",
       "      <td>5257</td>\n",
       "      <td>2007-06-02T03:57:56Z</td>\n",
       "      <td>1000</td>\n",
       "      <td>Ghana</td>\n",
       "      <td>GH</td>\n",
       "      <td>1000</td>\n",
       "      <td>2008-03-13T10:01:32Z</td>\n",
       "      <td>1000.0</td>\n",
       "      <td>Construction</td>\n",
       "      <td>Construction</td>\n",
       "      <td>False</td>\n",
       "      <td>Abla</td>\n",
       "      <td>Working capital</td>\n",
       "      <td>paid</td>\n",
       "    </tr>\n",
       "    <tr>\n",
       "      <th>5144</th>\n",
       "      <td>5258</td>\n",
       "      <td>2007-03-24T06:01:16Z</td>\n",
       "      <td>1100</td>\n",
       "      <td>Ghana</td>\n",
       "      <td>GH</td>\n",
       "      <td>1100</td>\n",
       "      <td>2007-12-26T10:15:55Z</td>\n",
       "      <td>1100.0</td>\n",
       "      <td>Construction</td>\n",
       "      <td>Construction</td>\n",
       "      <td>False</td>\n",
       "      <td>Manaa</td>\n",
       "      <td>Working capital</td>\n",
       "      <td>paid</td>\n",
       "    </tr>\n",
       "    <tr>\n",
       "      <th>5145</th>\n",
       "      <td>5259</td>\n",
       "      <td>2007-06-05T04:56:45Z</td>\n",
       "      <td>800</td>\n",
       "      <td>Ghana</td>\n",
       "      <td>GH</td>\n",
       "      <td>800</td>\n",
       "      <td>2008-03-13T10:01:33Z</td>\n",
       "      <td>800.0</td>\n",
       "      <td>Food Market</td>\n",
       "      <td>Food</td>\n",
       "      <td>False</td>\n",
       "      <td>Beauty</td>\n",
       "      <td>Working capital</td>\n",
       "      <td>paid</td>\n",
       "    </tr>\n",
       "  </tbody>\n",
       "</table>\n",
       "<p>5146 rows × 14 columns</p>\n",
       "</div>"
      ],
      "text/plain": [
       "        id           Funded Date  Funded Amount Country Country Code  \\\n",
       "0       84  2005-03-31T06:27:55Z            500  Uganda           UG   \n",
       "1       85  2005-03-31T06:27:55Z            500  Uganda           UG   \n",
       "2       86  2005-03-31T06:27:55Z            500  Uganda           UG   \n",
       "...    ...                   ...            ...     ...          ...   \n",
       "5143  5257  2007-06-02T03:57:56Z           1000   Ghana           GH   \n",
       "5144  5258  2007-03-24T06:01:16Z           1100   Ghana           GH   \n",
       "5145  5259  2007-06-05T04:56:45Z            800   Ghana           GH   \n",
       "\n",
       "      Loan Amount             Paid Date  Paid Amount               Activity  \\\n",
       "0             500  2005-12-13T12:00:40Z        500.0           Butcher Shop   \n",
       "1             500  2005-12-13T12:04:33Z        500.0  Food Production/Sales   \n",
       "2             500  2005-12-13T12:06:56Z        500.0           Animal Sales   \n",
       "...           ...                   ...          ...                    ...   \n",
       "5143         1000  2008-03-13T10:01:32Z       1000.0           Construction   \n",
       "5144         1100  2007-12-26T10:15:55Z       1100.0           Construction   \n",
       "5145          800  2008-03-13T10:01:33Z        800.0            Food Market   \n",
       "\n",
       "            Sector  Delinquent      Name  \\\n",
       "0             Food       False   Justine   \n",
       "1             Food       False  Geoffrey   \n",
       "2      Agriculture       False    Apollo   \n",
       "...            ...         ...       ...   \n",
       "5143  Construction       False      Abla   \n",
       "5144  Construction       False     Manaa   \n",
       "5145          Food       False    Beauty   \n",
       "\n",
       "                                                    Use Status  \n",
       "0                        Buy bulls, open a butcher shop   paid  \n",
       "1      Buying more produce each time for greater profit   paid  \n",
       "2     Increase number of goats bought and sold each ...   paid  \n",
       "...                                                 ...    ...  \n",
       "5143                                    Working capital   paid  \n",
       "5144                                    Working capital   paid  \n",
       "5145                                    Working capital   paid  \n",
       "\n",
       "[5146 rows x 14 columns]"
      ]
     },
     "execution_count": 11,
     "metadata": {},
     "output_type": "execute_result"
    }
   ],
   "source": [
    "#Visualizamos el dataframe\n",
    "df"
   ]
  },
  {
   "cell_type": "markdown",
   "metadata": {},
   "source": [
    "Analizamos sus componentes"
   ]
  },
  {
   "attachments": {
    "Elementos_DataFrame.jpg": {
     "image/jpeg": "[encoded data removed]"
    }
   },
   "cell_type": "markdown",
   "metadata": {},
   "source": [
    "![Elementos_DataFrame.jpg](attachment:Elementos_DataFrame.jpg)"
   ]
  },
  {
   "cell_type": "markdown",
   "metadata": {},
   "source": [
    "## TIPOS DE DATOS"
   ]
  },
  {
   "cell_type": "markdown",
   "metadata": {},
   "source": [
    "Los tipos de datos son una de las cosas que más confunden al principio.\n",
    "\n",
    "El motivo es que en la misma sesión de trabajo podemos estar usando Python base, Numpy, Pandas u otros paquetes de forma indistinta.\n",
    "\n",
    "Pero realmente cada uno de ellos tiene su tipo de datos, que es clave para lo que podemos hacer y lo que no.\n",
    "\n",
    "Para más complejidad los tipos de un paquete pueden estar construidos sobre los de otro.\n",
    "\n",
    "Por ejemplo en Pandas el index, columns e incluso los propios datos son arrays multidimensionales de Numpy.\n",
    "\n",
    "Pero luego el paquete puede aportar sus propios tipos.\n",
    "\n",
    "Por ejemplo Pandas tiene tipos propios como category o Int64.\n",
    "\n",
    "Con el uso será algo que automatices y ni siquiera pienses en ello.\n",
    "\n",
    "Pero al principio es muy importante recordar que en Python todo son objetos, y que los métodos que podemos usar en cada  objeto, o su comportamiento esperado dependen de qué tipo de objeto es.\n",
    "\n",
    "Por lo que si algo no funciona como esperas empieza siempre por preguntarte qué tipo de objeto o datos es el que estás manejando."
   ]
  },
  {
   "cell_type": "markdown",
   "metadata": {},
   "source": [
    "### Tipos de datos en Pandas"
   ]
  },
  {
   "cell_type": "markdown",
   "metadata": {},
   "source": [
    "Pandas puede usar los siguientes tipos de datos:\n",
    "\n",
    "* float: es el float de Numpy, que soporta datos nulos\n",
    "* int: es el int de Numpy, que NO soporta datos nulos\n",
    "* Int64: es un int que introduce Pandas para soportar datos nulos\n",
    "* object: es el object de Numpy, que se usa como texto para meter cualquier cosa\n",
    "* category: es un tipo que introduce Pandas específicamente para variables categóricas\n",
    "* bool: es el booleano de Numpy, que NO soporta datos nulos\n",
    "* boolean: es el booleano que introduce Pandas para soportar datos nulos\n",
    "* datetime64: es el tipo de Numpy para las fechas, que NO soporta datos nulos"
   ]
  },
  {
   "cell_type": "markdown",
   "metadata": {},
   "source": [
    "### Consideraciones adicionales"
   ]
  },
  {
   "cell_type": "markdown",
   "metadata": {},
   "source": [
    "Además verás que detrás de los tipos de datos numéricos aparece un número, que por defecto Pandas le pone un 64.\n",
    "\n",
    "Eso es porque Pandas importa cualquier dato numérico como un dato de 64 bits, aunque realmente necesitara menos bits para almacenar la info.\n",
    "\n",
    "Es una cosa avanzada que sólo debería preocuparte si vas a usar millones de datos y empiezas a tener problemas de memoria. Por ahora simplemente que no te asuste el número.\n",
    "\n",
    "Como referencia:\n",
    "\n",
    "* int8 puede almacenar enteros desde -128 hasta 127\n",
    "* int16 puede almacenar enteros desde -32768 hasta 32767\n",
    "* int64 puede almacenar enteros desde -9223372036854775808 hasta 9223372036854775807\n",
    "\n",
    "De igual forma, si alguna variable por ejemplo númerica pero que tenga algún nulo, Pandas la importará como object ya que como veíamos arriba los tipos de Numpy no admiten nulos. Aprenderemos a corregirlo en la lección de calidad de datos."
   ]
  },
  {
   "cell_type": "code",
   "execution_count": 12,
   "metadata": {},
   "outputs": [
    {
     "name": "stdout",
     "output_type": "stream",
     "text": [
      "<class 'pandas.core.frame.DataFrame'>\n",
      "RangeIndex: 5146 entries, 0 to 5145\n",
      "Data columns (total 14 columns):\n",
      " #   Column         Non-Null Count  Dtype  \n",
      "---  ------         --------------  -----  \n",
      " 0   id             5146 non-null   int64  \n",
      " 1   Funded Date    5050 non-null   object \n",
      " 2   Funded Amount  5146 non-null   int64  \n",
      " 3   Country        5146 non-null   object \n",
      " 4   Country Code   5146 non-null   object \n",
      " 5   Loan Amount    5146 non-null   int64  \n",
      " 6   Paid Date      4121 non-null   object \n",
      " 7   Paid Amount    4072 non-null   float64\n",
      " 8   Activity       5146 non-null   object \n",
      " 9   Sector         5146 non-null   object \n",
      " 10  Delinquent     5146 non-null   bool   \n",
      " 11  Name           5145 non-null   object \n",
      " 12  Use            5145 non-null   object \n",
      " 13  Status         5098 non-null   object \n",
      "dtypes: bool(1), float64(1), int64(3), object(9)\n",
      "memory usage: 527.8+ KB\n"
     ]
    }
   ],
   "source": [
    "#Veamos los tipos de df ahora que sabemos interpretarlos\n",
    "df.info()"
   ]
  },
  {
   "cell_type": "markdown",
   "metadata": {},
   "source": [
    "## CREAR DATOS"
   ]
  },
  {
   "cell_type": "markdown",
   "metadata": {},
   "source": [
    "### Crear un Series"
   ]
  },
  {
   "cell_type": "markdown",
   "metadata": {},
   "source": [
    "#### Crear una serie a patir de una lista"
   ]
  },
  {
   "cell_type": "code",
   "execution_count": 11,
   "metadata": {
    "scrolled": true
   },
   "outputs": [
    {
     "data": {
      "text/plain": [
       "0    a\n",
       "1    b\n",
       "2    c\n",
       "dtype: object"
      ]
     },
     "execution_count": 11,
     "metadata": {},
     "output_type": "execute_result"
    }
   ],
   "source": [
    "#A partir de una lista\n",
    "serie1 = pd.Series(['a','b','c'])\n",
    "serie1"
   ]
  },
  {
   "cell_type": "markdown",
   "metadata": {},
   "source": [
    "Vemos cómo ha creado automáticamente el índice con un secuencial. Podemos extraer cada componente con .index y .values\n",
    "\n",
    "Notar también que el índice empieza en cero."
   ]
  },
  {
   "cell_type": "code",
   "execution_count": 12,
   "metadata": {},
   "outputs": [
    {
     "data": {
      "text/plain": [
       "RangeIndex(start=0, stop=3, step=1)"
      ]
     },
     "execution_count": 12,
     "metadata": {},
     "output_type": "execute_result"
    }
   ],
   "source": [
    "serie1.index"
   ]
  },
  {
   "cell_type": "code",
   "execution_count": 13,
   "metadata": {},
   "outputs": [
    {
     "data": {
      "text/plain": [
       "array(['a', 'b', 'c'], dtype=object)"
      ]
     },
     "execution_count": 13,
     "metadata": {},
     "output_type": "execute_result"
    }
   ],
   "source": [
    "serie1.values"
   ]
  },
  {
   "cell_type": "markdown",
   "metadata": {},
   "source": [
    "Podemos definir un índice personalizado con el parámetro index."
   ]
  },
  {
   "cell_type": "code",
   "execution_count": 14,
   "metadata": {},
   "outputs": [
    {
     "data": {
      "text/plain": [
       "10    a\n",
       "20    b\n",
       "30    c\n",
       "dtype: object"
      ]
     },
     "execution_count": 14,
     "metadata": {},
     "output_type": "execute_result"
    }
   ],
   "source": [
    "indice = ['10','20','30']\n",
    "valores = ['a','b','c']\n",
    "serie1 = pd.Series(valores, index = indice)\n",
    "serie1"
   ]
  },
  {
   "cell_type": "markdown",
   "metadata": {},
   "source": [
    "#### Crear una serie a partir de un diccionario"
   ]
  },
  {
   "cell_type": "code",
   "execution_count": 5,
   "metadata": {
    "scrolled": true
   },
   "outputs": [
    {
     "data": {
      "text/plain": [
       "a    1\n",
       "b    2\n",
       "c    3\n",
       "dtype: int64"
      ]
     },
     "execution_count": 5,
     "metadata": {},
     "output_type": "execute_result"
    }
   ],
   "source": [
    "# A partir de un diccionario\n",
    "dict1 = {'a': 1, 'b': 2, 'c': 3}\n",
    "serie3 = pd.Series(dict1)\n",
    "serie3"
   ]
  },
  {
   "cell_type": "markdown",
   "metadata": {},
   "source": [
    "En este caso vemos cómo el índice se ha creado a partir de las claves, y los valores a partir del los valores del diccionario."
   ]
  },
  {
   "cell_type": "markdown",
   "metadata": {},
   "source": [
    "#### Crear una serie a partir de un array de numpy"
   ]
  },
  {
   "cell_type": "code",
   "execution_count": 3,
   "metadata": {
    "scrolled": true
   },
   "outputs": [
    {
     "data": {
      "text/plain": [
       "0    1\n",
       "1    2\n",
       "2    3\n",
       "dtype: int32"
      ]
     },
     "execution_count": 3,
     "metadata": {},
     "output_type": "execute_result"
    }
   ],
   "source": [
    "# A partir de un array de numpy\n",
    "import numpy as np\n",
    "vector1 = np.array([1, 2, 3])\n",
    "serie2 = pd.Series(vector1)\n",
    "serie2"
   ]
  },
  {
   "cell_type": "markdown",
   "metadata": {},
   "source": [
    "Podemos volver a pasar de Series a array de dos formas:\n",
    "\n",
    "* .values: funciona, pero en la documentación desaconsejan este método\n",
    "* .to_numpy()"
   ]
  },
  {
   "cell_type": "code",
   "execution_count": 17,
   "metadata": {},
   "outputs": [
    {
     "data": {
      "text/plain": [
       "numpy.ndarray"
      ]
     },
     "execution_count": 17,
     "metadata": {},
     "output_type": "execute_result"
    }
   ],
   "source": [
    "#con .values\n",
    "type(serie2.values)"
   ]
  },
  {
   "cell_type": "code",
   "execution_count": 18,
   "metadata": {},
   "outputs": [
    {
     "data": {
      "text/plain": [
       "numpy.ndarray"
      ]
     },
     "execution_count": 18,
     "metadata": {},
     "output_type": "execute_result"
    }
   ],
   "source": [
    "#con .to_numpy()\n",
    "type(serie2.to_numpy())"
   ]
  },
  {
   "cell_type": "markdown",
   "metadata": {},
   "source": [
    "#### Pasar una serie a un dataframe"
   ]
  },
  {
   "cell_type": "markdown",
   "metadata": {},
   "source": [
    "Con el método .to_frame()"
   ]
  },
  {
   "cell_type": "code",
   "execution_count": 19,
   "metadata": {
    "scrolled": true
   },
   "outputs": [
    {
     "data": {
      "text/plain": [
       "0    1\n",
       "1    2\n",
       "2    3\n",
       "dtype: int32"
      ]
     },
     "execution_count": 19,
     "metadata": {},
     "output_type": "execute_result"
    }
   ],
   "source": [
    "#Vemos la salida de serie2 como la serie que es\n",
    "serie2"
   ]
  },
  {
   "cell_type": "code",
   "execution_count": 20,
   "metadata": {
    "scrolled": true
   },
   "outputs": [
    {
     "data": {
      "text/html": [
       "<div>\n",
       "<style scoped>\n",
       "    .dataframe tbody tr th:only-of-type {\n",
       "        vertical-align: middle;\n",
       "    }\n",
       "\n",
       "    .dataframe tbody tr th {\n",
       "        vertical-align: top;\n",
       "    }\n",
       "\n",
       "    .dataframe thead th {\n",
       "        text-align: right;\n",
       "    }\n",
       "</style>\n",
       "<table border=\"1\" class=\"dataframe\">\n",
       "  <thead>\n",
       "    <tr style=\"text-align: right;\">\n",
       "      <th></th>\n",
       "      <th>0</th>\n",
       "    </tr>\n",
       "  </thead>\n",
       "  <tbody>\n",
       "    <tr>\n",
       "      <th>0</th>\n",
       "      <td>1</td>\n",
       "    </tr>\n",
       "    <tr>\n",
       "      <th>1</th>\n",
       "      <td>2</td>\n",
       "    </tr>\n",
       "    <tr>\n",
       "      <th>2</th>\n",
       "      <td>3</td>\n",
       "    </tr>\n",
       "  </tbody>\n",
       "</table>\n",
       "</div>"
      ],
      "text/plain": [
       "   0\n",
       "0  1\n",
       "1  2\n",
       "2  3"
      ]
     },
     "execution_count": 20,
     "metadata": {},
     "output_type": "execute_result"
    }
   ],
   "source": [
    "#Vemos la salida de serie2 al pasarla a dataframe\n",
    "serie2.to_frame()"
   ]
  },
  {
   "cell_type": "markdown",
   "metadata": {},
   "source": [
    "### Indexando una serie"
   ]
  },
  {
   "cell_type": "markdown",
   "metadata": {},
   "source": [
    "Hay dos formas de indexar:\n",
    "\n",
    "* Por posición: pasándole la posición en el índice del elemento que queremos\n",
    "* Por nombre: pasándole el nombre del índice del elemento que queremos"
   ]
  },
  {
   "cell_type": "code",
   "execution_count": 6,
   "metadata": {},
   "outputs": [
    {
     "data": {
      "text/plain": [
       "a    1\n",
       "b    2\n",
       "c    3\n",
       "dtype: int64"
      ]
     },
     "execution_count": 6,
     "metadata": {},
     "output_type": "execute_result"
    }
   ],
   "source": [
    "serie3"
   ]
  },
  {
   "cell_type": "code",
   "execution_count": 21,
   "metadata": {
    "scrolled": true
   },
   "outputs": [
    {
     "data": {
      "text/plain": [
       "1"
      ]
     },
     "execution_count": 21,
     "metadata": {},
     "output_type": "execute_result"
    }
   ],
   "source": [
    "#Por posición\n",
    "serie3[0]"
   ]
  },
  {
   "cell_type": "code",
   "execution_count": 22,
   "metadata": {
    "scrolled": true
   },
   "outputs": [
    {
     "data": {
      "text/plain": [
       "1"
      ]
     },
     "execution_count": 22,
     "metadata": {},
     "output_type": "execute_result"
    }
   ],
   "source": [
    "#Por nombre\n",
    "serie3['a']"
   ]
  },
  {
   "cell_type": "markdown",
   "metadata": {},
   "source": [
    "### Atributos de una serie"
   ]
  },
  {
   "cell_type": "markdown",
   "metadata": {},
   "source": [
    "Los atributos son propiedades de los objetos. Al contrario que los métodos no llevan ()"
   ]
  },
  {
   "cell_type": "code",
   "execution_count": 23,
   "metadata": {
    "scrolled": true
   },
   "outputs": [
    {
     "data": {
      "text/plain": [
       "dtype('int32')"
      ]
     },
     "execution_count": 23,
     "metadata": {},
     "output_type": "execute_result"
    }
   ],
   "source": [
    "#Tipo de datos\n",
    "serie2.dtype"
   ]
  },
  {
   "cell_type": "code",
   "execution_count": 26,
   "metadata": {
    "scrolled": true
   },
   "outputs": [
    {
     "data": {
      "text/plain": [
       "3"
      ]
     },
     "execution_count": 26,
     "metadata": {},
     "output_type": "execute_result"
    }
   ],
   "source": [
    "#Longitud del vector (número de elementos)\n",
    "serie2.size"
   ]
  },
  {
   "cell_type": "markdown",
   "metadata": {},
   "source": [
    "**Documentación**\n",
    "\n",
    "Lista de atributos y métodos de una Serie: https://pandas.pydata.org/pandas-docs/stable/reference/api/pandas.Series.html"
   ]
  },
  {
   "cell_type": "markdown",
   "metadata": {},
   "source": [
    "### Crear un dataframe"
   ]
  },
  {
   "cell_type": "markdown",
   "metadata": {},
   "source": [
    "**Documentación**\n",
    "\n",
    "Lista de atributos y métodos de un DataFrame: https://pandas.pydata.org/pandas-docs/stable/reference/api/pandas.DataFrame.html"
   ]
  },
  {
   "cell_type": "markdown",
   "metadata": {},
   "source": [
    "#### Crear un dataframe a partir de un diccionario"
   ]
  },
  {
   "cell_type": "markdown",
   "metadata": {},
   "source": [
    "En esta estructura cada clave del diccionario será una columna y cada valor será una lista con todas las futuras filas de esa columna"
   ]
  },
  {
   "cell_type": "code",
   "execution_count": 7,
   "metadata": {},
   "outputs": [
    {
     "data": {
      "text/html": [
       "<div>\n",
       "<style scoped>\n",
       "    .dataframe tbody tr th:only-of-type {\n",
       "        vertical-align: middle;\n",
       "    }\n",
       "\n",
       "    .dataframe tbody tr th {\n",
       "        vertical-align: top;\n",
       "    }\n",
       "\n",
       "    .dataframe thead th {\n",
       "        text-align: right;\n",
       "    }\n",
       "</style>\n",
       "<table border=\"1\" class=\"dataframe\">\n",
       "  <thead>\n",
       "    <tr style=\"text-align: right;\">\n",
       "      <th></th>\n",
       "      <th>letras</th>\n",
       "      <th>numeros</th>\n",
       "    </tr>\n",
       "  </thead>\n",
       "  <tbody>\n",
       "    <tr>\n",
       "      <th>0</th>\n",
       "      <td>a</td>\n",
       "      <td>1</td>\n",
       "    </tr>\n",
       "    <tr>\n",
       "      <th>1</th>\n",
       "      <td>b</td>\n",
       "      <td>2</td>\n",
       "    </tr>\n",
       "    <tr>\n",
       "      <th>2</th>\n",
       "      <td>c</td>\n",
       "      <td>3</td>\n",
       "    </tr>\n",
       "  </tbody>\n",
       "</table>\n",
       "</div>"
      ],
      "text/plain": [
       "  letras  numeros\n",
       "0      a        1\n",
       "1      b        2\n",
       "2      c        3"
      ]
     },
     "execution_count": 7,
     "metadata": {},
     "output_type": "execute_result"
    }
   ],
   "source": [
    "dicc_para_df = {'letras': ['a', 'b', 'c'], 'numeros': [1, 2, 3]}\n",
    "dicc_df = pd.DataFrame(dicc_para_df)\n",
    "dicc_df"
   ]
  },
  {
   "cell_type": "markdown",
   "metadata": {},
   "source": [
    "Para un índice personalizado usamos index"
   ]
  },
  {
   "cell_type": "code",
   "execution_count": 8,
   "metadata": {},
   "outputs": [
    {
     "data": {
      "text/html": [
       "<div>\n",
       "<style scoped>\n",
       "    .dataframe tbody tr th:only-of-type {\n",
       "        vertical-align: middle;\n",
       "    }\n",
       "\n",
       "    .dataframe tbody tr th {\n",
       "        vertical-align: top;\n",
       "    }\n",
       "\n",
       "    .dataframe thead th {\n",
       "        text-align: right;\n",
       "    }\n",
       "</style>\n",
       "<table border=\"1\" class=\"dataframe\">\n",
       "  <thead>\n",
       "    <tr style=\"text-align: right;\">\n",
       "      <th></th>\n",
       "      <th>letras</th>\n",
       "      <th>numeros</th>\n",
       "    </tr>\n",
       "  </thead>\n",
       "  <tbody>\n",
       "    <tr>\n",
       "      <th>10</th>\n",
       "      <td>a</td>\n",
       "      <td>1</td>\n",
       "    </tr>\n",
       "    <tr>\n",
       "      <th>20</th>\n",
       "      <td>b</td>\n",
       "      <td>2</td>\n",
       "    </tr>\n",
       "    <tr>\n",
       "      <th>30</th>\n",
       "      <td>c</td>\n",
       "      <td>3</td>\n",
       "    </tr>\n",
       "  </tbody>\n",
       "</table>\n",
       "</div>"
      ],
      "text/plain": [
       "   letras  numeros\n",
       "10      a        1\n",
       "20      b        2\n",
       "30      c        3"
      ]
     },
     "execution_count": 8,
     "metadata": {},
     "output_type": "execute_result"
    }
   ],
   "source": [
    "dicc_para_df = {'letras': ['a', 'b', 'c'], 'numeros': [1, 2, 3]}\n",
    "dicc_df = pd.DataFrame(dicc_para_df, index=[10, 20, 30])\n",
    "dicc_df"
   ]
  },
  {
   "cell_type": "markdown",
   "metadata": {},
   "source": [
    "#### Crear un dataframe a partir de listas con sus componentes"
   ]
  },
  {
   "cell_type": "markdown",
   "metadata": {},
   "source": [
    "Al final un dataframe necesita datos, nombres de columnas y un índice.\n",
    "\n",
    "Por eso el método DataFrame trae justo esos parámetros para que podamos pasarle listas con la info necesaria.\n",
    "\n",
    "Notar que en este caso los datos se los pasamos como filas, no como columnas"
   ]
  },
  {
   "cell_type": "code",
   "execution_count": 9,
   "metadata": {},
   "outputs": [
    {
     "data": {
      "text/html": [
       "<div>\n",
       "<style scoped>\n",
       "    .dataframe tbody tr th:only-of-type {\n",
       "        vertical-align: middle;\n",
       "    }\n",
       "\n",
       "    .dataframe tbody tr th {\n",
       "        vertical-align: top;\n",
       "    }\n",
       "\n",
       "    .dataframe thead th {\n",
       "        text-align: right;\n",
       "    }\n",
       "</style>\n",
       "<table border=\"1\" class=\"dataframe\">\n",
       "  <thead>\n",
       "    <tr style=\"text-align: right;\">\n",
       "      <th></th>\n",
       "      <th>letras</th>\n",
       "      <th>numeros</th>\n",
       "    </tr>\n",
       "  </thead>\n",
       "  <tbody>\n",
       "    <tr>\n",
       "      <th>10</th>\n",
       "      <td>a</td>\n",
       "      <td>1</td>\n",
       "    </tr>\n",
       "    <tr>\n",
       "      <th>20</th>\n",
       "      <td>b</td>\n",
       "      <td>2</td>\n",
       "    </tr>\n",
       "    <tr>\n",
       "      <th>30</th>\n",
       "      <td>c</td>\n",
       "      <td>3</td>\n",
       "    </tr>\n",
       "  </tbody>\n",
       "</table>\n",
       "</div>"
      ],
      "text/plain": [
       "   letras  numeros\n",
       "10      a        1\n",
       "20      b        2\n",
       "30      c        3"
      ]
     },
     "execution_count": 9,
     "metadata": {},
     "output_type": "execute_result"
    }
   ],
   "source": [
    "datos_para_df = [['a', 1], ['b', 2], ['c', 3]]\n",
    "columnas_para_df = ['letras', 'numeros']\n",
    "indice_para_df = [10, 20, 30]\n",
    "\n",
    "dicc_df = pd.DataFrame(\n",
    "    data=datos_para_df, columns=columnas_para_df, index=indice_para_df)\n",
    "dicc_df"
   ]
  },
  {
   "cell_type": "markdown",
   "metadata": {},
   "source": [
    "#### Crear un dataframe a partir de un array de dos dimensiones"
   ]
  },
  {
   "cell_type": "code",
   "execution_count": 10,
   "metadata": {
    "scrolled": true
   },
   "outputs": [
    {
     "data": {
      "text/html": [
       "<div>\n",
       "<style scoped>\n",
       "    .dataframe tbody tr th:only-of-type {\n",
       "        vertical-align: middle;\n",
       "    }\n",
       "\n",
       "    .dataframe tbody tr th {\n",
       "        vertical-align: top;\n",
       "    }\n",
       "\n",
       "    .dataframe thead th {\n",
       "        text-align: right;\n",
       "    }\n",
       "</style>\n",
       "<table border=\"1\" class=\"dataframe\">\n",
       "  <thead>\n",
       "    <tr style=\"text-align: right;\">\n",
       "      <th></th>\n",
       "      <th>0</th>\n",
       "      <th>1</th>\n",
       "      <th>2</th>\n",
       "    </tr>\n",
       "  </thead>\n",
       "  <tbody>\n",
       "    <tr>\n",
       "      <th>0</th>\n",
       "      <td>1</td>\n",
       "      <td>2</td>\n",
       "      <td>3</td>\n",
       "    </tr>\n",
       "    <tr>\n",
       "      <th>1</th>\n",
       "      <td>a</td>\n",
       "      <td>b</td>\n",
       "      <td>c</td>\n",
       "    </tr>\n",
       "  </tbody>\n",
       "</table>\n",
       "</div>"
      ],
      "text/plain": [
       "   0  1  2\n",
       "0  1  2  3\n",
       "1  a  b  c"
      ]
     },
     "execution_count": 10,
     "metadata": {},
     "output_type": "execute_result"
    }
   ],
   "source": [
    "vector_2d = np.array([[1, 2, 3], ['a', 'b', 'c']])\n",
    "df_2d = pd.DataFrame(vector_2d)\n",
    "df_2d"
   ]
  },
  {
   "cell_type": "markdown",
   "metadata": {},
   "source": [
    "Notar cómo no tiene nombres de índice ni de columnas, ya que todos los valores del array lo coje como datos.\n",
    "\n",
    "Le podemos poner los valores del índice con index y los de las columnas con columns."
   ]
  },
  {
   "cell_type": "code",
   "execution_count": 11,
   "metadata": {},
   "outputs": [
    {
     "data": {
      "text/html": [
       "<div>\n",
       "<style scoped>\n",
       "    .dataframe tbody tr th:only-of-type {\n",
       "        vertical-align: middle;\n",
       "    }\n",
       "\n",
       "    .dataframe tbody tr th {\n",
       "        vertical-align: top;\n",
       "    }\n",
       "\n",
       "    .dataframe thead th {\n",
       "        text-align: right;\n",
       "    }\n",
       "</style>\n",
       "<table border=\"1\" class=\"dataframe\">\n",
       "  <thead>\n",
       "    <tr style=\"text-align: right;\">\n",
       "      <th></th>\n",
       "      <th>col1</th>\n",
       "      <th>col2</th>\n",
       "      <th>col3</th>\n",
       "    </tr>\n",
       "  </thead>\n",
       "  <tbody>\n",
       "    <tr>\n",
       "      <th>fila1</th>\n",
       "      <td>1</td>\n",
       "      <td>2</td>\n",
       "      <td>3</td>\n",
       "    </tr>\n",
       "    <tr>\n",
       "      <th>fila2</th>\n",
       "      <td>a</td>\n",
       "      <td>b</td>\n",
       "      <td>c</td>\n",
       "    </tr>\n",
       "  </tbody>\n",
       "</table>\n",
       "</div>"
      ],
      "text/plain": [
       "      col1 col2 col3\n",
       "fila1    1    2    3\n",
       "fila2    a    b    c"
      ]
     },
     "execution_count": 11,
     "metadata": {},
     "output_type": "execute_result"
    }
   ],
   "source": [
    "vector_2d = np.array([[1, 2, 3], ['a', 'b', 'c']])\n",
    "pd.DataFrame(vector_2d, index=['fila1', 'fila2'],\n",
    "             columns=['col1', 'col2', 'col3'])"
   ]
  },
  {
   "cell_type": "markdown",
   "metadata": {},
   "source": [
    "Podemos volver a pasar de dataframe a array de dos formas:\n",
    "\n",
    "* .values: funciona, pero en la documentación desaconsejan este método\n",
    "* .to_numpy()"
   ]
  },
  {
   "cell_type": "code",
   "execution_count": 29,
   "metadata": {},
   "outputs": [
    {
     "data": {
      "text/plain": [
       "numpy.ndarray"
      ]
     },
     "execution_count": 29,
     "metadata": {},
     "output_type": "execute_result"
    }
   ],
   "source": [
    "#con .values\n",
    "type(df_2d.values)"
   ]
  },
  {
   "cell_type": "code",
   "execution_count": 30,
   "metadata": {},
   "outputs": [
    {
     "data": {
      "text/plain": [
       "numpy.ndarray"
      ]
     },
     "execution_count": 30,
     "metadata": {},
     "output_type": "execute_result"
    }
   ],
   "source": [
    "#con .to_numpy()\n",
    "type(df_2d.to_numpy())"
   ]
  },
  {
   "cell_type": "markdown",
   "metadata": {},
   "source": [
    "#### De DataFrame a Series"
   ]
  },
  {
   "cell_type": "markdown",
   "metadata": {},
   "source": [
    "Como sabemos un dataframe es una colección de Series. Hay varios métodos para extraer las columnas de un dataframe.\n",
    "\n",
    "Pero es importante saber lo que devuelve cada uno. Especialmente la de doble corchetes ya que en muchos casos nos resultará más fácil trabajar en formato DataFrame aunque sea sólo una variable."
   ]
  },
  {
   "cell_type": "code",
   "execution_count": 12,
   "metadata": {
    "scrolled": true
   },
   "outputs": [
    {
     "name": "stdout",
     "output_type": "stream",
     "text": [
      "<class 'pandas.core.series.Series'>\n"
     ]
    },
    {
     "data": {
      "text/plain": [
       "fila1    1\n",
       "fila2    a\n",
       "Name: col1, dtype: object"
      ]
     },
     "execution_count": 12,
     "metadata": {},
     "output_type": "execute_result"
    }
   ],
   "source": [
    "# Podemos extraer con la notación de punto, y devuelve un Series\n",
    "# Creamos el dataframe\n",
    "vector_2d = np.array([[1, 2, 3], ['a', 'b', 'c']])\n",
    "df_2d = pd.DataFrame(vector_2d, index=['fila1', 'fila2'], columns=[\n",
    "                     'col1', 'col2', 'col3'])\n",
    "# Extraemos con punto\n",
    "print(type(df_2d.col1))\n",
    "df_2d.col1"
   ]
  },
  {
   "cell_type": "code",
   "execution_count": 13,
   "metadata": {},
   "outputs": [
    {
     "data": {
      "text/html": [
       "<div>\n",
       "<style scoped>\n",
       "    .dataframe tbody tr th:only-of-type {\n",
       "        vertical-align: middle;\n",
       "    }\n",
       "\n",
       "    .dataframe tbody tr th {\n",
       "        vertical-align: top;\n",
       "    }\n",
       "\n",
       "    .dataframe thead th {\n",
       "        text-align: right;\n",
       "    }\n",
       "</style>\n",
       "<table border=\"1\" class=\"dataframe\">\n",
       "  <thead>\n",
       "    <tr style=\"text-align: right;\">\n",
       "      <th></th>\n",
       "      <th>col1</th>\n",
       "      <th>col2</th>\n",
       "      <th>col3</th>\n",
       "    </tr>\n",
       "  </thead>\n",
       "  <tbody>\n",
       "    <tr>\n",
       "      <th>fila1</th>\n",
       "      <td>1</td>\n",
       "      <td>2</td>\n",
       "      <td>3</td>\n",
       "    </tr>\n",
       "    <tr>\n",
       "      <th>fila2</th>\n",
       "      <td>a</td>\n",
       "      <td>b</td>\n",
       "      <td>c</td>\n",
       "    </tr>\n",
       "  </tbody>\n",
       "</table>\n",
       "</div>"
      ],
      "text/plain": [
       "      col1 col2 col3\n",
       "fila1    1    2    3\n",
       "fila2    a    b    c"
      ]
     },
     "execution_count": 13,
     "metadata": {},
     "output_type": "execute_result"
    }
   ],
   "source": [
    "df_2d"
   ]
  },
  {
   "cell_type": "code",
   "execution_count": 33,
   "metadata": {
    "scrolled": true
   },
   "outputs": [
    {
     "name": "stdout",
     "output_type": "stream",
     "text": [
      "<class 'pandas.core.series.Series'>\n"
     ]
    },
    {
     "data": {
      "text/plain": [
       "fila1    1\n",
       "fila2    a\n",
       "Name: col1, dtype: object"
      ]
     },
     "execution_count": 33,
     "metadata": {},
     "output_type": "execute_result"
    }
   ],
   "source": [
    "#Podemos extraer con la notación de corchetes, y devuelve un Series\n",
    "print(type(df_2d['col1']))\n",
    "df_2d['col1']"
   ]
  },
  {
   "cell_type": "code",
   "execution_count": 34,
   "metadata": {
    "scrolled": true
   },
   "outputs": [
    {
     "name": "stdout",
     "output_type": "stream",
     "text": [
      "<class 'pandas.core.frame.DataFrame'>\n"
     ]
    },
    {
     "data": {
      "text/html": [
       "<div>\n",
       "<style scoped>\n",
       "    .dataframe tbody tr th:only-of-type {\n",
       "        vertical-align: middle;\n",
       "    }\n",
       "\n",
       "    .dataframe tbody tr th {\n",
       "        vertical-align: top;\n",
       "    }\n",
       "\n",
       "    .dataframe thead th {\n",
       "        text-align: right;\n",
       "    }\n",
       "</style>\n",
       "<table border=\"1\" class=\"dataframe\">\n",
       "  <thead>\n",
       "    <tr style=\"text-align: right;\">\n",
       "      <th></th>\n",
       "      <th>col1</th>\n",
       "    </tr>\n",
       "  </thead>\n",
       "  <tbody>\n",
       "    <tr>\n",
       "      <th>fila1</th>\n",
       "      <td>1</td>\n",
       "    </tr>\n",
       "    <tr>\n",
       "      <th>fila2</th>\n",
       "      <td>a</td>\n",
       "    </tr>\n",
       "  </tbody>\n",
       "</table>\n",
       "</div>"
      ],
      "text/plain": [
       "      col1\n",
       "fila1    1\n",
       "fila2    a"
      ]
     },
     "execution_count": 34,
     "metadata": {},
     "output_type": "execute_result"
    }
   ],
   "source": [
    "#Pero si extraemos con la notación de dobles corchetes devuelve un DataFrame\n",
    "print(type(df_2d[['col1']]))\n",
    "df_2d[['col1']]"
   ]
  }
 ],
 "metadata": {
  "kernelspec": {
   "display_name": "Python 3",
   "language": "python",
   "name": "python3"
  },
  "language_info": {
   "codemirror_mode": {
    "name": "ipython",
    "version": 3
   },
   "file_extension": ".py",
   "mimetype": "text/x-python",
   "name": "python",
   "nbconvert_exporter": "python",
   "pygments_lexer": "ipython3",
   "version": "3.12.0"
  },
  "toc": {
   "base_numbering": 1,
   "nav_menu": {},
   "number_sections": true,
   "sideBar": true,
   "skip_h1_title": false,
   "title_cell": "Table of Contents",
   "title_sidebar": "Contents",
   "toc_cell": false,
   "toc_position": {
    "height": "calc(100% - 180px)",
    "left": "10px",
    "top": "150px",
    "width": "428.8px"
   },
   "toc_section_display": true,
   "toc_window_display": true
  },
  "toc-autonumbering": false,
  "toc-showcode": false,
  "toc-showmarkdowntxt": false,
  "toc-showtags": false,
  "varInspector": {
   "cols": {
    "lenName": 16,
    "lenType": 16,
    "lenVar": 40
   },
   "kernels_config": {
    "python": {
     "delete_cmd_postfix": "",
     "delete_cmd_prefix": "del ",
     "library": "var_list.py",
     "varRefreshCmd": "print(var_dic_list())"
    },
    "r": {
     "delete_cmd_postfix": ") ",
     "delete_cmd_prefix": "rm(",
     "library": "var_list.r",
     "varRefreshCmd": "cat(var_dic_list()) "
    }
   },
   "types_to_exclude": [
    "module",
    "function",
    "builtin_function_or_method",
    "instance",
    "_Feature"
   ],
   "window_display": false
  }
 },
 "nbformat": 4,
 "nbformat_minor": 4
}
