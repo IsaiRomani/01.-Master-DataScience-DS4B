{
 "cells": [
  {
   "cell_type": "markdown",
   "metadata": {},
   "source": [
    "# INTENSIVOS DE NUMPY Y ALGEBRA: EJERCICIOS"
   ]
  },
  {
   "cell_type": "markdown",
   "metadata": {},
   "source": [
    "Estos ejercicios te permitirán repasar y consolidar lo que has aprendido en los intensivos de Numpy y Álgebra.\n",
    "\n",
    "No hagas los ejercicios hasta que hayas estudiado y memorizado el contenido de sus notebooks.\n",
    "\n",
    "Instrucciones:\n",
    "\n",
    "* Crea una copia de este notebook antes de escribir nada. De esa forma respetarás el original para volver a hacerlo\n",
    "* Cada ejercicio tiene unas instrucciones de lo que debes hacer en él\n",
    "* Bajo las instrucciones estará una celda vacía, aquí es donde tú debes escribir la solución\n",
    "* Y bajo esta última celda verás que hay otras dos celdas. La primera está vacía y no la debes tocar. Es para que tengas siempre a mano la solución al ejercicio, ya que esta no va a cambiar"
   ]
  },
  {
   "cell_type": "markdown",
   "metadata": {},
   "source": [
    "## Ejercicio:\n",
    "\n",
    "Importa numpy como np"
   ]
  },
  {
   "cell_type": "code",
   "execution_count": 1,
   "metadata": {},
   "outputs": [],
   "source": [
    "import numpy as np"
   ]
  },
  {
   "cell_type": "markdown",
   "metadata": {},
   "source": [
    "## Ejercicio:\n",
    "\n",
    "Crea una lista de Python con los números del 1 a l0. Y después suma 5 a cada uno de sus elementos."
   ]
  },
  {
   "cell_type": "code",
   "execution_count": 85,
   "metadata": {},
   "outputs": [
    {
     "data": {
      "text/plain": [
       "[1, 2, 3, 4, 5, 6, 7, 8, 9, 10]"
      ]
     },
     "execution_count": 85,
     "metadata": {},
     "output_type": "execute_result"
    }
   ],
   "source": [
    "lista = list(range(1, 11))\n",
    "lista"
   ]
  },
  {
   "cell_type": "code",
   "execution_count": 87,
   "metadata": {},
   "outputs": [
    {
     "data": {
      "text/plain": [
       "[6, 7, 8, 9, 10, 11, 12, 13, 14, 15]"
      ]
     },
     "execution_count": 87,
     "metadata": {},
     "output_type": "execute_result"
    }
   ],
   "source": [
    "# Version del profesor Isaac\n",
    "[cada+5 for cada in lista]"
   ]
  },
  {
   "cell_type": "code",
   "execution_count": 31,
   "metadata": {},
   "outputs": [
    {
     "data": {
      "text/plain": [
       "[6, 7, 8, 9, 10, 11, 12, 13, 14, 15]"
      ]
     },
     "execution_count": 31,
     "metadata": {},
     "output_type": "execute_result"
    }
   ],
   "source": [
    "for i in range(len(lista)):\n",
    "    lista[i] += 5\n",
    "\n",
    "lista"
   ]
  },
  {
   "cell_type": "code",
   "execution_count": 46,
   "metadata": {},
   "outputs": [
    {
     "data": {
      "text/plain": [
       "[6, 7, 8, 9, 10, 11, 12, 13, 14, 15]"
      ]
     },
     "execution_count": 46,
     "metadata": {},
     "output_type": "execute_result"
    }
   ],
   "source": [
    "#No tocar, es para que veas la solución"
   ]
  },
  {
   "cell_type": "markdown",
   "metadata": {},
   "source": [
    "## Ejercicio:\n",
    "\n",
    "Haz lo mismo pero ahora usando numpy (primero crea un vector a partir de lista)."
   ]
  },
  {
   "cell_type": "code",
   "execution_count": 89,
   "metadata": {},
   "outputs": [
    {
     "data": {
      "text/plain": [
       "array([ 6,  7,  8,  9, 10, 11, 12, 13, 14, 15])"
      ]
     },
     "execution_count": 89,
     "metadata": {},
     "output_type": "execute_result"
    }
   ],
   "source": [
    "numpy_list = np.array(lista)\n",
    "numpy_list+5"
   ]
  },
  {
   "cell_type": "code",
   "execution_count": 48,
   "metadata": {},
   "outputs": [
    {
     "data": {
      "text/plain": [
       "array([ 6,  7,  8,  9, 10, 11, 12, 13, 14, 15])"
      ]
     },
     "execution_count": 48,
     "metadata": {},
     "output_type": "execute_result"
    }
   ],
   "source": [
    "#No tocar, es para que veas la solución"
   ]
  },
  {
   "cell_type": "markdown",
   "metadata": {},
   "source": [
    "## Ejercicio:\n",
    "\n",
    "Crea un array directamente desde un rango, desde el 100 al 200 de 10 en 10."
   ]
  },
  {
   "cell_type": "code",
   "execution_count": 37,
   "metadata": {},
   "outputs": [
    {
     "data": {
      "text/plain": [
       "array([100, 110, 120, 130, 140, 150, 160, 170, 180, 190, 200])"
      ]
     },
     "execution_count": 37,
     "metadata": {},
     "output_type": "execute_result"
    }
   ],
   "source": [
    "rango_numpy = np.arange(100, 210, 10)\n",
    "rango_numpy"
   ]
  },
  {
   "cell_type": "code",
   "execution_count": 49,
   "metadata": {},
   "outputs": [
    {
     "data": {
      "text/plain": [
       "array([100, 110, 120, 130, 140, 150, 160, 170, 180, 190, 200])"
      ]
     },
     "execution_count": 49,
     "metadata": {},
     "output_type": "execute_result"
    }
   ],
   "source": [
    "#No tocar, es para que veas la solución"
   ]
  },
  {
   "cell_type": "markdown",
   "metadata": {},
   "source": [
    "## Ejercicio:\n",
    "\n",
    "Crea una array de 20 elementos interpolados desde el 100 al 200."
   ]
  },
  {
   "cell_type": "code",
   "execution_count": 39,
   "metadata": {},
   "outputs": [
    {
     "data": {
      "text/plain": [
       "array([100.        , 105.26315789, 110.52631579, 115.78947368,\n",
       "       121.05263158, 126.31578947, 131.57894737, 136.84210526,\n",
       "       142.10526316, 147.36842105, 152.63157895, 157.89473684,\n",
       "       163.15789474, 168.42105263, 173.68421053, 178.94736842,\n",
       "       184.21052632, 189.47368421, 194.73684211, 200.        ])"
      ]
     },
     "execution_count": 39,
     "metadata": {},
     "output_type": "execute_result"
    }
   ],
   "source": [
    "rango_20elem = np.linspace(100, 200, 20)\n",
    "rango_20elem"
   ]
  },
  {
   "cell_type": "code",
   "execution_count": 50,
   "metadata": {
    "scrolled": true
   },
   "outputs": [
    {
     "data": {
      "text/plain": [
       "array([100.        , 105.26315789, 110.52631579, 115.78947368,\n",
       "       121.05263158, 126.31578947, 131.57894737, 136.84210526,\n",
       "       142.10526316, 147.36842105, 152.63157895, 157.89473684,\n",
       "       163.15789474, 168.42105263, 173.68421053, 178.94736842,\n",
       "       184.21052632, 189.47368421, 194.73684211, 200.        ])"
      ]
     },
     "execution_count": 50,
     "metadata": {},
     "output_type": "execute_result"
    }
   ],
   "source": [
    "#No tocar, es para que veas la solución"
   ]
  },
  {
   "cell_type": "markdown",
   "metadata": {},
   "source": [
    "## Ejercicio:\n",
    "\n",
    "Crea una matriz de 4 filas y 6 columnas rellena con ceros."
   ]
  },
  {
   "cell_type": "code",
   "execution_count": 91,
   "metadata": {},
   "outputs": [
    {
     "data": {
      "text/plain": [
       "array([[0., 0., 0., 0., 0., 0.],\n",
       "       [0., 0., 0., 0., 0., 0.],\n",
       "       [0., 0., 0., 0., 0., 0.],\n",
       "       [0., 0., 0., 0., 0., 0.]])"
      ]
     },
     "execution_count": 91,
     "metadata": {},
     "output_type": "execute_result"
    }
   ],
   "source": [
    "matriz_prof = np.zeros((4, 6))\n",
    "matriz_prof"
   ]
  },
  {
   "cell_type": "code",
   "execution_count": 46,
   "metadata": {},
   "outputs": [
    {
     "data": {
      "text/plain": [
       "array([[0., 0., 0., 0., 0., 0.],\n",
       "       [0., 0., 0., 0., 0., 0.],\n",
       "       [0., 0., 0., 0., 0., 0.],\n",
       "       [0., 0., 0., 0., 0., 0.]])"
      ]
     },
     "execution_count": 46,
     "metadata": {},
     "output_type": "execute_result"
    }
   ],
   "source": [
    "matriz_ceros = np.zeros((6, 4)).reshape(4, 6)\n",
    "matriz_ceros"
   ]
  },
  {
   "cell_type": "code",
   "execution_count": 51,
   "metadata": {},
   "outputs": [
    {
     "data": {
      "text/plain": [
       "array([[0., 0., 0., 0., 0., 0.],\n",
       "       [0., 0., 0., 0., 0., 0.],\n",
       "       [0., 0., 0., 0., 0., 0.],\n",
       "       [0., 0., 0., 0., 0., 0.]])"
      ]
     },
     "execution_count": 51,
     "metadata": {},
     "output_type": "execute_result"
    }
   ],
   "source": [
    "#No tocar, es para que veas la solución"
   ]
  },
  {
   "cell_type": "markdown",
   "metadata": {},
   "source": [
    "## Ejercicio:\n",
    "\n",
    "Crea una matriz identidad de 4 filas y 4 columnas."
   ]
  },
  {
   "cell_type": "code",
   "execution_count": 47,
   "metadata": {},
   "outputs": [
    {
     "data": {
      "text/plain": [
       "array([[1., 0., 0., 0.],\n",
       "       [0., 1., 0., 0.],\n",
       "       [0., 0., 1., 0.],\n",
       "       [0., 0., 0., 1.]])"
      ]
     },
     "execution_count": 47,
     "metadata": {},
     "output_type": "execute_result"
    }
   ],
   "source": [
    "matrix_identidad = np.eye(4)\n",
    "matrix_identidad"
   ]
  },
  {
   "cell_type": "code",
   "execution_count": 67,
   "metadata": {},
   "outputs": [
    {
     "data": {
      "text/plain": [
       "array([[1., 0., 0., 0.],\n",
       "       [0., 1., 0., 0.],\n",
       "       [0., 0., 1., 0.],\n",
       "       [0., 0., 0., 1.]])"
      ]
     },
     "execution_count": 67,
     "metadata": {},
     "output_type": "execute_result"
    }
   ],
   "source": [
    "#No tocar, es para que veas la solución"
   ]
  },
  {
   "cell_type": "markdown",
   "metadata": {},
   "source": [
    "## Ejercicio:\n",
    "\n",
    "Crea una matriz de 6 filas y 3 columnas rellena con números aleatorios entre 0 y 1."
   ]
  },
  {
   "cell_type": "code",
   "execution_count": 93,
   "metadata": {},
   "outputs": [
    {
     "data": {
      "text/plain": [
       "array([[-0.19423703, -1.05193069, -0.20157242],\n",
       "       [ 0.35980923, -0.47051451,  0.00537266],\n",
       "       [-0.64931552, -1.80306684, -1.16175167],\n",
       "       [ 3.10418161,  1.52564229, -0.44606054],\n",
       "       [ 0.36970124, -0.51284831,  2.37761986],\n",
       "       [ 0.29998058, -0.37883708, -0.76973543]])"
      ]
     },
     "execution_count": 93,
     "metadata": {},
     "output_type": "execute_result"
    }
   ],
   "source": [
    "matri_prof_alea = np.random.randn(6, 3)\n",
    "matri_prof_alea"
   ]
  },
  {
   "cell_type": "code",
   "execution_count": 65,
   "metadata": {},
   "outputs": [
    {
     "data": {
      "text/plain": [
       "array([[-0.13006885,  0.32602822, -0.5950688 ],\n",
       "       [-0.31117117,  0.64148961,  0.16835671],\n",
       "       [ 0.35615493,  2.49350773, -0.84890316],\n",
       "       [ 0.38282237,  0.22972481,  0.01964894],\n",
       "       [ 0.94272557,  0.09370964,  0.61788841],\n",
       "       [ 1.95531114,  0.28342184,  0.79183109]])"
      ]
     },
     "execution_count": 65,
     "metadata": {},
     "output_type": "execute_result"
    }
   ],
   "source": [
    "matr_alea = np.random.randn(3, 6).reshape(6, 3)\n",
    "matr_alea"
   ]
  },
  {
   "cell_type": "code",
   "execution_count": 53,
   "metadata": {},
   "outputs": [
    {
     "data": {
      "text/plain": [
       "array([[0.09451382, 0.16584694, 0.2529427 ],\n",
       "       [0.28996585, 0.46437665, 0.43470393],\n",
       "       [0.46521979, 0.27674738, 0.07856732],\n",
       "       [0.13936708, 0.82925581, 0.39132827],\n",
       "       [0.43577272, 0.32297518, 0.06138335],\n",
       "       [0.27166362, 0.54577411, 0.28245301]])"
      ]
     },
     "execution_count": 53,
     "metadata": {},
     "output_type": "execute_result"
    }
   ],
   "source": [
    "#No tocar, es para que veas la solución"
   ]
  },
  {
   "cell_type": "markdown",
   "metadata": {},
   "source": [
    "## Ejercicio:\n",
    "\n",
    "Crea un vector aleatorio de 100 elementos que tenga una distribución normal."
   ]
  },
  {
   "cell_type": "code",
   "execution_count": 67,
   "metadata": {},
   "outputs": [
    {
     "data": {
      "text/plain": [
       "array([ 0.26302018,  0.35958793, -1.0218233 , -0.3905256 , -2.2924422 ,\n",
       "        0.06729452, -0.29546326,  0.6952156 , -0.5682995 ,  0.23386354,\n",
       "        0.5452956 , -0.85558848, -0.99203372,  1.42728377,  0.41556442,\n",
       "        0.81432402,  0.00561012,  0.27772816, -0.24503328,  0.43372947,\n",
       "        0.20507424, -0.43904309, -0.40077347, -1.33104159, -0.80789418,\n",
       "       -0.65485208,  0.32656277,  0.07927722, -0.0868792 ,  0.05066765,\n",
       "       -0.35051969, -0.30341509, -1.39704112, -0.21863969, -1.20698883,\n",
       "        0.39324742, -0.24864318, -0.36879961, -0.10729967, -1.22429762,\n",
       "       -0.96217928, -1.13184485, -0.32463069,  0.79469381,  0.14312685,\n",
       "        0.6011528 ,  1.81713985,  0.10326576,  0.58089086, -0.61112785,\n",
       "       -0.59504643,  0.90149505, -1.36359498, -0.29195707, -1.63288629,\n",
       "        1.63978528,  1.05130347,  1.30188268,  0.27991323, -0.40804407,\n",
       "        0.59919134, -0.68613687,  0.61425872,  0.95991234, -0.00938198,\n",
       "       -0.77084948, -0.54566561,  0.19401654, -0.86869902, -0.55625905,\n",
       "       -1.37255124, -0.03188057, -0.08870229, -0.62227452, -1.79094195,\n",
       "        1.43119646,  0.88893024, -0.10156751,  0.6922992 ,  0.65934457,\n",
       "        0.22818502,  1.90813758,  0.2781433 , -0.56541024, -0.36603282,\n",
       "        1.28754844,  0.21568854,  0.49199163,  0.99670665, -0.0071347 ,\n",
       "       -0.48858555, -2.0221138 , -1.02849967, -1.55341608,  1.41181208,\n",
       "       -0.86510653,  1.19884381, -0.7369425 ,  0.8416627 ,  0.40880807])"
      ]
     },
     "execution_count": 67,
     "metadata": {},
     "output_type": "execute_result"
    }
   ],
   "source": [
    "vector_normal = np.random.randn(100)\n",
    "vector_normal"
   ]
  },
  {
   "cell_type": "code",
   "execution_count": 54,
   "metadata": {},
   "outputs": [
    {
     "data": {
      "text/plain": [
       "array([ 0.12834816,  0.42524468,  0.21095275,  0.7218104 ,  0.09394681,\n",
       "        0.4642257 , -0.11891562,  0.61751569,  0.75489449, -2.30931096,\n",
       "       -1.75704714,  0.89818773,  0.15026191, -1.06121246, -0.39216193,\n",
       "       -1.26625334, -0.64986291, -1.48819816,  0.02671956,  0.09407852,\n",
       "       -0.38231459,  0.20115651, -0.03886299,  0.6251126 ,  0.80682781,\n",
       "       -1.19814968, -0.50837248,  0.68435471,  0.71324418,  1.74594028,\n",
       "        0.78351515, -1.50249539, -0.55837808,  0.61603342, -0.79127258,\n",
       "        0.30382751, -0.45963241, -0.76974453, -0.45983724, -0.93955482,\n",
       "        0.84061529,  0.95448884, -0.83919377,  0.52608214,  3.31969621,\n",
       "       -0.768641  , -0.13039133,  0.31945984,  0.98480205, -0.41329785,\n",
       "       -0.86605547,  1.86406004, -1.1478997 ,  2.46526731, -1.49621034,\n",
       "        0.01154948,  1.64698209,  1.29050885,  1.12787419,  2.14417859,\n",
       "       -1.91519325,  0.60085336, -0.66306722, -0.26413746,  0.03949464,\n",
       "        0.7090535 , -0.21414052,  0.55457442, -0.35212701, -0.04521234,\n",
       "        1.10325213, -1.17100427,  0.24712849,  0.29264046, -0.81451885,\n",
       "        2.35411216, -0.67790035, -1.31458784, -1.02067448,  0.08417335,\n",
       "        2.10617362,  0.91360029, -0.36452606,  0.8948383 , -0.31088983,\n",
       "       -1.3595482 , -1.7689971 , -0.04635292,  0.8215378 , -0.6086671 ,\n",
       "        0.97958821, -0.45031162, -0.43203875,  1.57961267, -0.38254992,\n",
       "       -0.39133306, -2.28696988,  1.86855813, -0.83737734, -0.02799622])"
      ]
     },
     "execution_count": 54,
     "metadata": {},
     "output_type": "execute_result"
    }
   ],
   "source": [
    "#No tocar, es para que veas la solución"
   ]
  },
  {
   "cell_type": "markdown",
   "metadata": {},
   "source": [
    "## Ejercicio:\n",
    "\n",
    "Crea un vector aleatorio de 100 elementos que vayan entre el 1 y el 100."
   ]
  },
  {
   "cell_type": "code",
   "execution_count": 70,
   "metadata": {},
   "outputs": [
    {
     "data": {
      "text/plain": [
       "array([68, 70, 49, 34, 55,  7, 31, 80, 12,  1, 20, 80, 46, 48, 61, 93,  1,\n",
       "       75, 89, 18,  8, 58, 97, 86, 60, 27,  5, 33, 69, 50,  5, 19, 73, 49,\n",
       "       95, 59, 44, 80, 45, 21, 59, 28,  4, 85, 28,  6, 92, 90,  2, 42, 59,\n",
       "       17,  2, 36, 87,  4,  9, 72, 56, 21, 82, 63, 79, 60, 43,  6, 49,  1,\n",
       "       75, 57, 27,  3, 45, 29, 40, 41, 79, 19, 96,  4, 77, 61, 90,  1,  1,\n",
       "       43, 70, 94, 12, 45, 13, 45, 58, 82, 53, 14, 33, 72, 15, 91])"
      ]
     },
     "execution_count": 70,
     "metadata": {},
     "output_type": "execute_result"
    }
   ],
   "source": [
    "vector_alea = np.random.randint(1, 101, 100)\n",
    "vector_alea"
   ]
  },
  {
   "cell_type": "code",
   "execution_count": 55,
   "metadata": {
    "scrolled": true
   },
   "outputs": [
    {
     "data": {
      "text/plain": [
       "array([ 13,  90,  91,  42,   3,  61,  81,  65,  66,  81,  36,  81,  28,\n",
       "        50,  46,  69,  35,  95,  96,  21,  48,  96,   7,  40,  18,  12,\n",
       "        25,  12,  38,  72,  91,  34,  66,  51,  95,   7,   1,  92,   6,\n",
       "        28,  92,  15,  48,  18,  58,  24,  15,  21,  93,  28,  70,  71,\n",
       "         8,  22,  54,  35,  46,  49,  78,  28,  94,  46,  73,  28,  94,\n",
       "        21,  17,  54,  77,  39,  66,  51,  40,  35, 100,  90,  60,  46,\n",
       "        23,  59,  56,  26,  30,  72,  86,  99,  33,  92,  50, 100,  91,\n",
       "        35,  58,  96,  37,   8,  35,  54,  24,  31])"
      ]
     },
     "execution_count": 55,
     "metadata": {},
     "output_type": "execute_result"
    }
   ],
   "source": [
    "#No tocar, es para que veas la solución"
   ]
  },
  {
   "cell_type": "markdown",
   "metadata": {},
   "source": [
    "## Ejercicio:\n",
    "\n",
    "Crea un vector llamado vector, como el anterior pero ordénalo."
   ]
  },
  {
   "cell_type": "code",
   "execution_count": 73,
   "metadata": {},
   "outputs": [
    {
     "data": {
      "text/plain": [
       "array([ 1,  1,  1,  1,  1,  2,  2,  3,  4,  4,  4,  5,  5,  6,  6,  7,  8,\n",
       "        9, 12, 12, 13, 14, 15, 17, 18, 19, 19, 20, 21, 21, 27, 27, 28, 28,\n",
       "       29, 31, 33, 33, 34, 36, 40, 41, 42, 43, 43, 44, 45, 45, 45, 45, 46,\n",
       "       48, 49, 49, 49, 50, 53, 55, 56, 57, 58, 58, 59, 59, 59, 60, 60, 61,\n",
       "       61, 63, 68, 69, 70, 70, 72, 72, 73, 75, 75, 77, 79, 79, 80, 80, 80,\n",
       "       82, 82, 85, 86, 87, 89, 90, 90, 91, 92, 93, 94, 95, 96, 97])"
      ]
     },
     "execution_count": 73,
     "metadata": {},
     "output_type": "execute_result"
    }
   ],
   "source": [
    "vector_alea.sort()\n",
    "vector_alea"
   ]
  },
  {
   "cell_type": "code",
   "execution_count": 56,
   "metadata": {
    "scrolled": false
   },
   "outputs": [
    {
     "data": {
      "text/plain": [
       "array([ 1,  1,  1,  2,  2,  3,  3,  5,  5,  7,  8,  9, 11, 12, 17, 17, 19,\n",
       "       19, 20, 20, 23, 24, 26, 26, 26, 27, 27, 28, 29, 32, 32, 33, 34, 35,\n",
       "       35, 36, 40, 40, 40, 40, 45, 46, 50, 52, 53, 53, 55, 55, 55, 56, 56,\n",
       "       57, 57, 57, 58, 59, 60, 61, 62, 63, 65, 66, 66, 66, 67, 68, 70, 71,\n",
       "       71, 72, 73, 74, 74, 78, 78, 79, 79, 81, 81, 82, 82, 85, 85, 85, 85,\n",
       "       86, 86, 87, 87, 88, 89, 91, 92, 93, 94, 95, 95, 95, 96, 98])"
      ]
     },
     "execution_count": 56,
     "metadata": {},
     "output_type": "execute_result"
    }
   ],
   "source": [
    "#No tocar, es para que veas la solución"
   ]
  },
  {
   "cell_type": "markdown",
   "metadata": {},
   "source": [
    "## Ejercicio:\n",
    "\n",
    "Sobre vector calcula la media, mediana, desv típica, varianza, máximo y mínimo."
   ]
  },
  {
   "cell_type": "code",
   "execution_count": 94,
   "metadata": {},
   "outputs": [
    {
     "name": "stdout",
     "output_type": "stream",
     "text": [
      "45.88\n",
      "45.5\n",
      "29.854071749093123\n",
      "891.2656000000002\n",
      "97\n",
      "1\n"
     ]
    }
   ],
   "source": [
    "print(vector_alea.mean())\n",
    "print(np.median(vector_alea))\n",
    "print(np.std(vector_alea))\n",
    "print(vector_alea.var())\n",
    "print(vector_alea.max())\n",
    "print(vector_alea.min())"
   ]
  },
  {
   "cell_type": "code",
   "execution_count": 57,
   "metadata": {
    "scrolled": false
   },
   "outputs": [
    {
     "name": "stdout",
     "output_type": "stream",
     "text": [
      "51.8\n",
      "56.0\n",
      "29.27422074112307\n",
      "856.9800000000001\n",
      "98\n",
      "1\n"
     ]
    }
   ],
   "source": [
    "#No tocar, es para que veas la solución"
   ]
  },
  {
   "cell_type": "markdown",
   "metadata": {},
   "source": [
    "## Ejercicio:\n",
    "\n",
    "Extrae de vector los elementos que están entre el sexto y el octavo ambos incluidos."
   ]
  },
  {
   "cell_type": "code",
   "execution_count": 96,
   "metadata": {},
   "outputs": [
    {
     "data": {
      "text/plain": [
       "array([2, 2, 3])"
      ]
     },
     "execution_count": 96,
     "metadata": {},
     "output_type": "execute_result"
    }
   ],
   "source": [
    "vector_alea[5: 8]"
   ]
  },
  {
   "cell_type": "code",
   "execution_count": 58,
   "metadata": {
    "scrolled": true
   },
   "outputs": [
    {
     "data": {
      "text/plain": [
       "array([3, 3, 5])"
      ]
     },
     "execution_count": 58,
     "metadata": {},
     "output_type": "execute_result"
    }
   ],
   "source": [
    "#No tocar, es para que veas la solución"
   ]
  },
  {
   "cell_type": "markdown",
   "metadata": {},
   "source": [
    "## Ejercicio:\n",
    "\n",
    "Extrae de vector los elementos que son pares. Pista: puedes apoyarte en el operador módulo %"
   ]
  },
  {
   "cell_type": "code",
   "execution_count": 99,
   "metadata": {},
   "outputs": [
    {
     "data": {
      "text/plain": [
       "array([ 2,  2,  4,  4,  4,  6,  6,  8, 12, 12, 14, 18, 20, 28, 28, 34, 36,\n",
       "       40, 42, 44, 46, 48, 50, 56, 58, 58, 60, 60, 68, 70, 70, 72, 72, 80,\n",
       "       80, 80, 82, 82, 86, 90, 90, 92, 94, 96])"
      ]
     },
     "execution_count": 99,
     "metadata": {},
     "output_type": "execute_result"
    }
   ],
   "source": [
    "vector_alea[vector_alea % 2 == 0]"
   ]
  },
  {
   "cell_type": "code",
   "execution_count": 59,
   "metadata": {
    "scrolled": true
   },
   "outputs": [
    {
     "data": {
      "text/plain": [
       "array([ 2,  2,  8, 12, 20, 20, 24, 26, 26, 26, 28, 32, 32, 34, 36, 40, 40,\n",
       "       40, 40, 46, 50, 52, 56, 56, 58, 60, 62, 66, 66, 66, 68, 70, 72, 74,\n",
       "       74, 78, 78, 82, 82, 86, 86, 88, 92, 94, 96, 98])"
      ]
     },
     "execution_count": 59,
     "metadata": {},
     "output_type": "execute_result"
    }
   ],
   "source": [
    "#No tocar, es para que veas la solución"
   ]
  },
  {
   "cell_type": "markdown",
   "metadata": {},
   "source": [
    "## Ejercicio:\n",
    "\n",
    "Crea dos vectores de enteros llamados v1 y v2, cada uno de 5 elementos aleatorios entre 1 y 10 y súmalos."
   ]
  },
  {
   "cell_type": "code",
   "execution_count": 78,
   "metadata": {},
   "outputs": [
    {
     "name": "stdout",
     "output_type": "stream",
     "text": [
      "[1 2 8 5 8]\n",
      "[6 5 8 3 5]\n"
     ]
    }
   ],
   "source": [
    "v1 = np.random.randint(1, 11, 5)\n",
    "v2 = np.random.randint(1, 11, 5)\n",
    "print(v1)\n",
    "print(v2)"
   ]
  },
  {
   "cell_type": "code",
   "execution_count": 79,
   "metadata": {},
   "outputs": [
    {
     "data": {
      "text/plain": [
       "array([ 7,  7, 16,  8, 13])"
      ]
     },
     "execution_count": 79,
     "metadata": {},
     "output_type": "execute_result"
    }
   ],
   "source": [
    "v1+v2"
   ]
  },
  {
   "cell_type": "code",
   "execution_count": 60,
   "metadata": {
    "scrolled": true
   },
   "outputs": [
    {
     "data": {
      "text/plain": [
       "array([10, 17, 10, 16, 15])"
      ]
     },
     "execution_count": 60,
     "metadata": {},
     "output_type": "execute_result"
    }
   ],
   "source": [
    "#No tocar, es para que veas la solución"
   ]
  },
  {
   "cell_type": "markdown",
   "metadata": {},
   "source": [
    "## Ejercicio:\n",
    "\n",
    "Multiplícalos usando el producto escalar."
   ]
  },
  {
   "cell_type": "code",
   "execution_count": 102,
   "metadata": {},
   "outputs": [
    {
     "data": {
      "text/plain": [
       "135"
      ]
     },
     "execution_count": 102,
     "metadata": {},
     "output_type": "execute_result"
    }
   ],
   "source": [
    "# np.dot(v1,v2) tambien es posible\n",
    "v1.dot(v2)"
   ]
  },
  {
   "cell_type": "code",
   "execution_count": 61,
   "metadata": {
    "scrolled": true
   },
   "outputs": [
    {
     "data": {
      "text/plain": [
       "215"
      ]
     },
     "execution_count": 61,
     "metadata": {},
     "output_type": "execute_result"
    }
   ],
   "source": [
    "#No tocar, es para que veas la solución"
   ]
  },
  {
   "cell_type": "markdown",
   "metadata": {},
   "source": [
    "## Ejercicio:\n",
    "\n",
    "Transforma el vector que creaste antes llamado vector en una matriz de 10 x 10 y llámala matriz"
   ]
  },
  {
   "cell_type": "code",
   "execution_count": 104,
   "metadata": {},
   "outputs": [
    {
     "data": {
      "text/plain": [
       "array([[ 1,  1,  1,  1,  1,  2,  2,  3,  4,  4],\n",
       "       [ 4,  5,  5,  6,  6,  7,  8,  9, 12, 12],\n",
       "       [13, 14, 15, 17, 18, 19, 19, 20, 21, 21],\n",
       "       [27, 27, 28, 28, 29, 31, 33, 33, 34, 36],\n",
       "       [40, 41, 42, 43, 43, 44, 45, 45, 45, 45],\n",
       "       [46, 48, 49, 49, 49, 50, 53, 55, 56, 57],\n",
       "       [58, 58, 59, 59, 59, 60, 60, 61, 61, 63],\n",
       "       [68, 69, 70, 70, 72, 72, 73, 75, 75, 77],\n",
       "       [79, 79, 80, 80, 80, 82, 82, 85, 86, 87],\n",
       "       [89, 90, 90, 91, 92, 93, 94, 95, 96, 97]])"
      ]
     },
     "execution_count": 104,
     "metadata": {},
     "output_type": "execute_result"
    }
   ],
   "source": [
    "matris_vec = vector_alea.reshape(10, 10)\n",
    "matris_vec"
   ]
  },
  {
   "cell_type": "code",
   "execution_count": 62,
   "metadata": {
    "scrolled": true
   },
   "outputs": [
    {
     "data": {
      "text/plain": [
       "array([[ 1,  1,  1,  2,  2,  3,  3,  5,  5,  7],\n",
       "       [ 8,  9, 11, 12, 17, 17, 19, 19, 20, 20],\n",
       "       [23, 24, 26, 26, 26, 27, 27, 28, 29, 32],\n",
       "       [32, 33, 34, 35, 35, 36, 40, 40, 40, 40],\n",
       "       [45, 46, 50, 52, 53, 53, 55, 55, 55, 56],\n",
       "       [56, 57, 57, 57, 58, 59, 60, 61, 62, 63],\n",
       "       [65, 66, 66, 66, 67, 68, 70, 71, 71, 72],\n",
       "       [73, 74, 74, 78, 78, 79, 79, 81, 81, 82],\n",
       "       [82, 85, 85, 85, 85, 86, 86, 87, 87, 88],\n",
       "       [89, 91, 92, 93, 94, 95, 95, 95, 96, 98]])"
      ]
     },
     "execution_count": 62,
     "metadata": {},
     "output_type": "execute_result"
    }
   ],
   "source": [
    "#No tocar, es para que veas la solución"
   ]
  },
  {
   "cell_type": "markdown",
   "metadata": {},
   "source": [
    "## Ejercicio:\n",
    "\n",
    "Multiplica matriz por 8"
   ]
  },
  {
   "cell_type": "code",
   "execution_count": 105,
   "metadata": {},
   "outputs": [
    {
     "data": {
      "text/plain": [
       "array([[  8,   8,   8,   8,   8,  16,  16,  24,  32,  32],\n",
       "       [ 32,  40,  40,  48,  48,  56,  64,  72,  96,  96],\n",
       "       [104, 112, 120, 136, 144, 152, 152, 160, 168, 168],\n",
       "       [216, 216, 224, 224, 232, 248, 264, 264, 272, 288],\n",
       "       [320, 328, 336, 344, 344, 352, 360, 360, 360, 360],\n",
       "       [368, 384, 392, 392, 392, 400, 424, 440, 448, 456],\n",
       "       [464, 464, 472, 472, 472, 480, 480, 488, 488, 504],\n",
       "       [544, 552, 560, 560, 576, 576, 584, 600, 600, 616],\n",
       "       [632, 632, 640, 640, 640, 656, 656, 680, 688, 696],\n",
       "       [712, 720, 720, 728, 736, 744, 752, 760, 768, 776]])"
      ]
     },
     "execution_count": 105,
     "metadata": {},
     "output_type": "execute_result"
    }
   ],
   "source": [
    "matris_vec*8"
   ]
  },
  {
   "cell_type": "code",
   "execution_count": 63,
   "metadata": {
    "scrolled": false
   },
   "outputs": [
    {
     "data": {
      "text/plain": [
       "array([[  8,   8,   8,  16,  16,  24,  24,  40,  40,  56],\n",
       "       [ 64,  72,  88,  96, 136, 136, 152, 152, 160, 160],\n",
       "       [184, 192, 208, 208, 208, 216, 216, 224, 232, 256],\n",
       "       [256, 264, 272, 280, 280, 288, 320, 320, 320, 320],\n",
       "       [360, 368, 400, 416, 424, 424, 440, 440, 440, 448],\n",
       "       [448, 456, 456, 456, 464, 472, 480, 488, 496, 504],\n",
       "       [520, 528, 528, 528, 536, 544, 560, 568, 568, 576],\n",
       "       [584, 592, 592, 624, 624, 632, 632, 648, 648, 656],\n",
       "       [656, 680, 680, 680, 680, 688, 688, 696, 696, 704],\n",
       "       [712, 728, 736, 744, 752, 760, 760, 760, 768, 784]])"
      ]
     },
     "execution_count": 63,
     "metadata": {},
     "output_type": "execute_result"
    }
   ],
   "source": [
    "#No tocar, es para que veas la solución"
   ]
  }
 ],
 "metadata": {
  "kernelspec": {
   "display_name": "Python 3",
   "language": "python",
   "name": "python3"
  },
  "language_info": {
   "codemirror_mode": {
    "name": "ipython",
    "version": 3
   },
   "file_extension": ".py",
   "mimetype": "text/x-python",
   "name": "python",
   "nbconvert_exporter": "python",
   "pygments_lexer": "ipython3",
   "version": "3.12.0"
  },
  "toc": {
   "base_numbering": 1,
   "nav_menu": {},
   "number_sections": true,
   "sideBar": true,
   "skip_h1_title": false,
   "title_cell": "Table of Contents",
   "title_sidebar": "Contents",
   "toc_cell": false,
   "toc_position": {},
   "toc_section_display": true,
   "toc_window_display": true
  },
  "varInspector": {
   "cols": {
    "lenName": 16,
    "lenType": 16,
    "lenVar": 40
   },
   "kernels_config": {
    "python": {
     "delete_cmd_postfix": "",
     "delete_cmd_prefix": "del ",
     "library": "var_list.py",
     "varRefreshCmd": "print(var_dic_list())"
    },
    "r": {
     "delete_cmd_postfix": ") ",
     "delete_cmd_prefix": "rm(",
     "library": "var_list.r",
     "varRefreshCmd": "cat(var_dic_list()) "
    }
   },
   "position": {
    "height": "559.85px",
    "left": "1774px",
    "right": "20px",
    "top": "120px",
    "width": "350px"
   },
   "types_to_exclude": [
    "module",
    "function",
    "builtin_function_or_method",
    "instance",
    "_Feature"
   ],
   "window_display": true
  }
 },
 "nbformat": 4,
 "nbformat_minor": 4
}
