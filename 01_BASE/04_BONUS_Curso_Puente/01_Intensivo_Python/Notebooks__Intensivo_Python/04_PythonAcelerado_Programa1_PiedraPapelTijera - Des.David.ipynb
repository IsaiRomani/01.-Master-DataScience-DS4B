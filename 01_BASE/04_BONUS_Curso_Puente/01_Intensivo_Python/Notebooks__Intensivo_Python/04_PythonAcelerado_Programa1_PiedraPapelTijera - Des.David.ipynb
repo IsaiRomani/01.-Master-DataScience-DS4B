{
 "cells": [
  {
   "cell_type": "markdown",
   "metadata": {},
   "source": [
    "## EJERCICIO DE PIEDRA-PAPEL-TIJERA"
   ]
  },
  {
   "cell_type": "markdown",
   "metadata": {},
   "source": [
    "En este ejercicio vamos a crear este popular juego simplemente como forma de practicar sobre algunos de los principales conceptos que aprendimos en el curso acelerado de Python.\n",
    "\n",
    "El primer paso siempre es hacer un diseño de lo que queremos que haga el programa. En nuestro caso:\n",
    "\n",
    "1. Preguntar el nombre al jugador\n",
    "2. Explicar las reglas del juego\n",
    "3. Preguntar al jugador qué quiere sacar\n",
    "4. Hacer una tirada aleatoria por el ordenador\n",
    "5. Resolver quien ha ganado y sumarle el punto\n",
    "6. Repetir del 3 al 5 diez veces\n",
    "7. Evaluar el ganador final\n",
    "8. Mostrar el resultado"
   ]
  },
  {
   "cell_type": "markdown",
   "metadata": {},
   "source": [
    "Suele ser buena práctica intentar sacar en funciones todas aquellas operaciones que puedan ser aisladas o que vayan a repetirse varias veces.\n",
    "\n",
    "En nuestro caso vamos a sacar como funciones los siguiente procesos:\n",
    "* Preguntar al jugador qué quiere sacar\n",
    "* Hacer una tirada aleatoria por el ordenador\n",
    "* Resolver quien ha ganado y sumarle el punto\n",
    "\n",
    "Y el resto, que es secuencial, vamos a dejarlo como la parte principal del programa, que irá llamando a esas funciones cuando las necesite.\n",
    "\n",
    "Cuando hacemos esto hay que definir primero las funciones y dejar la parte principal del programa para el final.\n",
    "\n",
    "Vamos a por ello!"
   ]
  },
  {
   "cell_type": "markdown",
   "metadata": {},
   "source": [
    "**PASO 1:**\n",
    "\n",
    "Define una función, llamada jugador, que pregunte al jugador qué jugada quiere hacer usando los códigos de abajo, y devuelva el resultado como un entero.\n",
    "\n",
    "1: Piedra\n",
    "\n",
    "2: Papel\n",
    "\n",
    "3: Tijera"
   ]
  },
  {
   "cell_type": "code",
   "execution_count": 111,
   "metadata": {},
   "outputs": [],
   "source": [
    "def jugador():\n",
    "    valor_jugador = int(\n",
    "        input(\"Elije tu jugada: 1. Piedra 2. Papel 3. Tijera:\"))\n",
    "    return valor_jugador"
   ]
  },
  {
   "cell_type": "markdown",
   "metadata": {},
   "source": [
    "**PASO 2:**\n",
    "\n",
    "Define una función, llamada ordenador, que seleccione aleatoriamente entre piedra, papel o tijera y devuelva el resultado.\n",
    "\n",
    "Pista: necesitarás el módulo random, y puedes buscar una función que te ayude en:\n",
    "\n",
    "https://www.w3schools.com/python/module_random.asp"
   ]
  },
  {
   "cell_type": "code",
   "execution_count": 112,
   "metadata": {},
   "outputs": [],
   "source": [
    "import random\n",
    "\n",
    "\n",
    "def ordenador():\n",
    "    valor_ordenador = random.choice([1, 2, 3])\n",
    "    return valor_ordenador"
   ]
  },
  {
   "cell_type": "code",
   "execution_count": 98,
   "metadata": {},
   "outputs": [
    {
     "name": "stdout",
     "output_type": "stream",
     "text": [
      "3\n"
     ]
    }
   ],
   "source": [
    "ordenador()"
   ]
  },
  {
   "cell_type": "markdown",
   "metadata": {},
   "source": [
    "**PASO 3:**\n",
    "\n",
    "Define una función, llamada compara, que tome como parámetros el resultado de la jugada del jugador y del ordenador, implemente la lógica del juego y devuelva el resultado, que podrá ser quien ha ganado o si ha habido empate."
   ]
  },
  {
   "cell_type": "code",
   "execution_count": 109,
   "metadata": {},
   "outputs": [],
   "source": [
    "def compara(jugador, ordenador):\n",
    "    if jugador == ordenador:\n",
    "        ganador = \"Es un empate\"\n",
    "    elif (jugador == 1 and ordenador == 2) or (jugador == 2 and ordenador == 3) or (jugador == 3 and ordenador == 1):\n",
    "        ganador = \"Gana ordenador\"\n",
    "    elif (jugador == 1 and ordenador == 3) or (jugador == 2 and ordenador == 1) or (jugador == 3 and ordenador == 2):\n",
    "        ganador = \"Gana jugador\"\n",
    "    else:\n",
    "        ganador = \"Ha habido un error\"\n",
    "    return ganador"
   ]
  },
  {
   "cell_type": "code",
   "execution_count": 107,
   "metadata": {},
   "outputs": [
    {
     "data": {
      "text/plain": [
       "'Es un empate'"
      ]
     },
     "execution_count": 107,
     "metadata": {},
     "output_type": "execute_result"
    }
   ],
   "source": [
    "# import random\n",
    "\n",
    "\n",
    "# def jugador():\n",
    "#     pregunta = int(input(\"Elije tu jugada: 1. Piedra 2. Papel 3. Tijera:\"))\n",
    "#     return pregunta\n",
    "\n",
    "\n",
    "# def ordenador():\n",
    "#     valor_ordenador = random.choice([1, 2, 3])\n",
    "#     return valor_ordenador\n",
    "\n",
    "\n",
    "# def compara(jugador, ordenador):\n",
    "#     if jugador == ordenador:\n",
    "#         ganador = \"Es un empate\"\n",
    "#     elif (jugador == 1 and ordenador == 2) or (jugador == 2 and ordenador == 3) or (jugador == 3 and ordenador == 1):\n",
    "#         ganador = \"Gana ordenador\"\n",
    "#     elif (jugador == 1 and ordenador == 3) or (jugador == 2 and ordenador == 1) or (jugador == 3 and ordenador == 2):\n",
    "#         ganador = \"Gana jugador\"\n",
    "#     else:\n",
    "#         ganador = \"Ha habido un error\"\n",
    "#     return ganador\n",
    "\n",
    "\n",
    "# compara(jugador(), ordenador())"
   ]
  },
  {
   "cell_type": "markdown",
   "metadata": {},
   "source": [
    "**PASO 4:**\n",
    "\n",
    "Define la parte principal del programa que vaya siguiendo lo definido en el diseño y llamando a las funciones que hemos creado cuando sea necesario.\n",
    "\n",
    "Cuando lo hayas terminado ejecuta todas las celdas y diviértete!!"
   ]
  },
  {
   "cell_type": "code",
   "execution_count": 120,
   "metadata": {},
   "outputs": [
    {
     "name": "stdout",
     "output_type": "stream",
     "text": [
      "David! Bienvenido al Juego Piedra, Papel o Tijera\n",
      "\n",
      "Se lanzara 10 jugadas, el que acumule mas victorias ganara\n",
      "Parece que hemos empatado\n",
      "Parece que hemos empatado\n",
      "Gana ordenador\n",
      "Gana jugador\n",
      "Gana ordenador\n",
      "Parece que hemos empatado\n",
      "Gana ordenador\n",
      "Parece que hemos empatado\n",
      "Gana ordenador\n",
      "Parece que hemos empatado\n",
      "Gana la Maquina\n",
      "La maquina acumulo 4 puntos y usted acumulo 1 y empates 5\n"
     ]
    }
   ],
   "source": [
    "# 1. Preguntar el nombre al jugador\n",
    "Inicio = input(\"Cual es tu Nombre: \")\n",
    "print(f\"{Inicio}! Bienvenido al Juego Piedra, Papel o Tijera\")\n",
    "\n",
    "# 2. Explicar las reglas del juego\n",
    "print(\"\\nSe lanzara 10 jugadas, el que acumule mas victorias ganara\")\n",
    "\n",
    "contador_jugador = 0\n",
    "contador_ordenador = 0\n",
    "empates = 0\n",
    "\n",
    "# 3. Preguntar al jugador qué quiere sacar\n",
    "# 4. Hacer una tirada aleatoria por el ordenador\n",
    "for i in range(10):\n",
    "    tirada_jugador = jugador()\n",
    "    tirada_ordenador = ordenador()\n",
    "    Resultado = compara(tirada_jugador, tirada_ordenador)\n",
    "    if Resultado == \"Gana jugador\":\n",
    "        print(\"Gana jugador\")\n",
    "        contador_jugador += 1\n",
    "    elif Resultado == \"Gana ordenador\":\n",
    "        print(\"Gana ordenador\")\n",
    "        contador_ordenador += 1\n",
    "    elif Resultado == \"Es un empate\":\n",
    "        print(\"Parece que hemos empatado\")\n",
    "        empates += 1\n",
    "    else:\n",
    "        print(\"Ha habido un error\")\n",
    "# 5. Resolver quien ha ganado y sumarle el punto\n",
    "# 6. Repetir del 3 al 5 diez veces\n",
    "# 7. Evaluar el ganador final\n",
    "# 8. Mostrar el resultado\n",
    "if contador_jugador > contador_ordenador:\n",
    "    print(\"Haz ganado\")\n",
    "elif contador_jugador == contador_ordenador:\n",
    "    print(\"Es un empate\")\n",
    "else:\n",
    "    print(\"Gana la Maquina\")\n",
    "    print(\"La maquina acumulo {} puntos y usted acumulo {} y empates {}\".format(\n",
    "        contador_ordenador, contador_jugador, empates))\n"
   ]
  },
  {
   "cell_type": "code",
   "execution_count": null,
   "metadata": {},
   "outputs": [],
   "source": []
  }
 ],
 "metadata": {
  "kernelspec": {
   "display_name": "Python 3",
   "language": "python",
   "name": "python3"
  },
  "language_info": {
   "codemirror_mode": {
    "name": "ipython",
    "version": 3
   },
   "file_extension": ".py",
   "mimetype": "text/x-python",
   "name": "python",
   "nbconvert_exporter": "python",
   "pygments_lexer": "ipython3",
   "version": "3.12.0"
  },
  "toc": {
   "base_numbering": 1,
   "nav_menu": {},
   "number_sections": true,
   "sideBar": true,
   "skip_h1_title": false,
   "title_cell": "Table of Contents",
   "title_sidebar": "Contents",
   "toc_cell": false,
   "toc_position": {},
   "toc_section_display": true,
   "toc_window_display": true
  },
  "varInspector": {
   "cols": {
    "lenName": 16,
    "lenType": 16,
    "lenVar": 40
   },
   "kernels_config": {
    "python": {
     "delete_cmd_postfix": "",
     "delete_cmd_prefix": "del ",
     "library": "var_list.py",
     "varRefreshCmd": "print(var_dic_list())"
    },
    "r": {
     "delete_cmd_postfix": ") ",
     "delete_cmd_prefix": "rm(",
     "library": "var_list.r",
     "varRefreshCmd": "cat(var_dic_list()) "
    }
   },
   "types_to_exclude": [
    "module",
    "function",
    "builtin_function_or_method",
    "instance",
    "_Feature"
   ],
   "window_display": false
  }
 },
 "nbformat": 4,
 "nbformat_minor": 4
}
