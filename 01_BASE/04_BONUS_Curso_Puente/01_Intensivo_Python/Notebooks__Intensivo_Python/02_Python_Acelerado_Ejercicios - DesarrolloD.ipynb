{
 "cells": [
  {
   "cell_type": "markdown",
   "metadata": {},
   "source": [
    "# CURSO ACELERADO DE  PYTHON DS4B: EJERCICIOS"
   ]
  },
  {
   "cell_type": "markdown",
   "metadata": {},
   "source": [
    "Estos ejercicios te permitirán repasar y consolidar lo que has aprendido en el curso acelerado de Python.\n",
    "\n",
    "No hagas los ejercicios hasta que hayas estudiado y memorizado el contenido del notebook del curso acelerado de Python.\n",
    "\n",
    "Instrucciones:\n",
    "\n",
    "* Crea una copia de este notebook antes de escribir nada. De esa forma respetarás el original para volver a hacerlo\n",
    "* Cada ejercicio tiene unas instrucciones de lo que debes hacer en él\n",
    "* Bajo las instrucciones estará una celda vacía, aquí es donde tú debes escribir la solución\n",
    "* Y bajo esta última celda verás que hay otras dos celdas. La primera está vacía y no la debes tocar. Es para que tengas siempre a mano la solución al ejercicio, ya que esta no va a cambiar"
   ]
  },
  {
   "cell_type": "markdown",
   "metadata": {},
   "source": [
    "## Ejercicio:\n",
    "\n",
    "Calcula ocho menos 5"
   ]
  },
  {
   "cell_type": "code",
   "execution_count": 120,
   "metadata": {},
   "outputs": [
    {
     "data": {
      "text/plain": [
       "3"
      ]
     },
     "execution_count": 120,
     "metadata": {},
     "output_type": "execute_result"
    }
   ],
   "source": [
    "8-5"
   ]
  },
  {
   "cell_type": "code",
   "execution_count": 121,
   "metadata": {},
   "outputs": [],
   "source": [
    "# No tocar, es para que veas la solución"
   ]
  },
  {
   "cell_type": "markdown",
   "metadata": {},
   "source": [
    "## Ejercicio:\n",
    "\n",
    "Calcula 4 al cuadrado"
   ]
  },
  {
   "cell_type": "code",
   "execution_count": 122,
   "metadata": {},
   "outputs": [
    {
     "data": {
      "text/plain": [
       "16"
      ]
     },
     "execution_count": 122,
     "metadata": {},
     "output_type": "execute_result"
    }
   ],
   "source": [
    "4**2"
   ]
  },
  {
   "cell_type": "code",
   "execution_count": 123,
   "metadata": {},
   "outputs": [],
   "source": [
    "# No tocar, es para que veas la solución"
   ]
  },
  {
   "cell_type": "markdown",
   "metadata": {},
   "source": [
    "## Ejercicio:\n",
    "\n",
    "Comprueba si 8 es diferente de 9"
   ]
  },
  {
   "cell_type": "code",
   "execution_count": 124,
   "metadata": {},
   "outputs": [
    {
     "data": {
      "text/plain": [
       "True"
      ]
     },
     "execution_count": 124,
     "metadata": {},
     "output_type": "execute_result"
    }
   ],
   "source": [
    "8 != 9"
   ]
  },
  {
   "cell_type": "code",
   "execution_count": 125,
   "metadata": {},
   "outputs": [],
   "source": [
    "# No tocar, es para que veas la solución"
   ]
  },
  {
   "cell_type": "markdown",
   "metadata": {},
   "source": [
    "## Ejercicio:\n",
    "\n",
    "En una sola línea asigna 'Francisco' a la variable nombre y 'García' a la variable apellido, y en otras 2 líneas imprime cada uno"
   ]
  },
  {
   "cell_type": "code",
   "execution_count": 246,
   "metadata": {},
   "outputs": [
    {
     "name": "stdout",
     "output_type": "stream",
     "text": [
      "Francisco\n",
      "Garcia\n"
     ]
    }
   ],
   "source": [
    "nombre1, apellido1 = [\"Francisco\", \"Garcia\"]  # Version del profesro\n",
    "nombre, apellido = \"Francisco\", \"Garcia\"\n",
    "print(nombre)\n",
    "print(apellido)"
   ]
  },
  {
   "cell_type": "code",
   "execution_count": 127,
   "metadata": {},
   "outputs": [],
   "source": [
    "# No tocar, es para que veas la solución"
   ]
  },
  {
   "cell_type": "markdown",
   "metadata": {},
   "source": [
    "## Ejercicio:\n",
    "\n",
    "Usando las variables anteriores imprime de forma dinámica (usando format) la frase 'Me llamo Francisco y me apellido García'"
   ]
  },
  {
   "cell_type": "code",
   "execution_count": 128,
   "metadata": {},
   "outputs": [
    {
     "name": "stdout",
     "output_type": "stream",
     "text": [
      "Me llamo Francisco y mi apellido Garcia\n",
      "Me llamo Francisco y mi apellido Garcia\n"
     ]
    }
   ],
   "source": [
    "print(f\"Me llamo {nombre} y mi apellido {apellido}\")\n",
    "print(\"Me llamo {} y mi apellido {}\".format(nombre, apellido))"
   ]
  },
  {
   "cell_type": "code",
   "execution_count": 129,
   "metadata": {},
   "outputs": [],
   "source": [
    "# No tocar, es para que veas la solución"
   ]
  },
  {
   "cell_type": "markdown",
   "metadata": {
    "heading_collapsed": true
   },
   "source": [
    "## Ejercicio:\n",
    "\n",
    "Crea una variable frase que contenga 'Me llamo Francisco y me apellido García'. Y después pásalo todo a mayúsculas"
   ]
  },
  {
   "cell_type": "code",
   "execution_count": 130,
   "metadata": {
    "hidden": true
   },
   "outputs": [
    {
     "data": {
      "text/plain": [
       "'ME LLAMO FRANCISCO Y MI APELLIDO GARCIA'"
      ]
     },
     "execution_count": 130,
     "metadata": {},
     "output_type": "execute_result"
    }
   ],
   "source": [
    "frase = (\"Me llamo {} y mi apellido {}\".format(nombre, apellido))\n",
    "frase.upper()"
   ]
  },
  {
   "cell_type": "code",
   "execution_count": 131,
   "metadata": {
    "hidden": true
   },
   "outputs": [],
   "source": [
    "# No tocar, es para que veas la solución"
   ]
  },
  {
   "cell_type": "markdown",
   "metadata": {},
   "source": [
    "## Ejercicio:\n",
    "\n",
    "Crea una lista (sin picarla a mano) que se llame lista_palabras y que contenga todas las palabras de la frase anterior. Después sácala por consola."
   ]
  },
  {
   "cell_type": "code",
   "execution_count": 132,
   "metadata": {},
   "outputs": [
    {
     "data": {
      "text/plain": [
       "['Me', 'llamo', 'Francisco', 'y', 'mi', 'apellido', 'Garcia']"
      ]
     },
     "execution_count": 132,
     "metadata": {},
     "output_type": "execute_result"
    }
   ],
   "source": [
    "lista_palabras = frase.split()\n",
    "lista_palabras"
   ]
  },
  {
   "cell_type": "code",
   "execution_count": 133,
   "metadata": {},
   "outputs": [],
   "source": [
    "# No tocar, es para que veas la solución"
   ]
  },
  {
   "cell_type": "markdown",
   "metadata": {},
   "source": [
    "## Ejercicio:\n",
    "\n",
    "Cuenta cuantas palabras hay en lista_palabras"
   ]
  },
  {
   "cell_type": "code",
   "execution_count": 134,
   "metadata": {},
   "outputs": [
    {
     "data": {
      "text/plain": [
       "7"
      ]
     },
     "execution_count": 134,
     "metadata": {},
     "output_type": "execute_result"
    }
   ],
   "source": [
    "len(lista_palabras)"
   ]
  },
  {
   "cell_type": "code",
   "execution_count": 135,
   "metadata": {},
   "outputs": [],
   "source": [
    "# No tocar, es para que veas la solución"
   ]
  },
  {
   "cell_type": "markdown",
   "metadata": {},
   "source": [
    "## Ejercicio:\n",
    "\n",
    "Convierte 13.24 a entero"
   ]
  },
  {
   "cell_type": "code",
   "execution_count": 136,
   "metadata": {},
   "outputs": [
    {
     "name": "stdout",
     "output_type": "stream",
     "text": [
      "13\n",
      "13\n"
     ]
    }
   ],
   "source": [
    "print(int(13.24))\n",
    "print(round(13.24))"
   ]
  },
  {
   "cell_type": "code",
   "execution_count": 137,
   "metadata": {},
   "outputs": [],
   "source": [
    "# No tocar, es para que veas la solución"
   ]
  },
  {
   "cell_type": "markdown",
   "metadata": {},
   "source": [
    "## Ejercicio:\n",
    "\n",
    "Convierte 13 a real"
   ]
  },
  {
   "cell_type": "code",
   "execution_count": 138,
   "metadata": {
    "scrolled": true
   },
   "outputs": [
    {
     "data": {
      "text/plain": [
       "13.0"
      ]
     },
     "execution_count": 138,
     "metadata": {},
     "output_type": "execute_result"
    }
   ],
   "source": [
    "float(13)"
   ]
  },
  {
   "cell_type": "code",
   "execution_count": 139,
   "metadata": {
    "scrolled": true
   },
   "outputs": [],
   "source": [
    "# No tocar, es para que veas la solución"
   ]
  },
  {
   "cell_type": "markdown",
   "metadata": {},
   "source": [
    "## Ejercicio:\n",
    "\n",
    "Convierte 13 a texto"
   ]
  },
  {
   "cell_type": "code",
   "execution_count": 140,
   "metadata": {
    "scrolled": true
   },
   "outputs": [
    {
     "data": {
      "text/plain": [
       "'13'"
      ]
     },
     "execution_count": 140,
     "metadata": {},
     "output_type": "execute_result"
    }
   ],
   "source": [
    "str(13)"
   ]
  },
  {
   "cell_type": "code",
   "execution_count": 141,
   "metadata": {
    "scrolled": true
   },
   "outputs": [],
   "source": [
    "# No tocar, es para que veas la solución"
   ]
  },
  {
   "cell_type": "markdown",
   "metadata": {},
   "source": [
    "## Ejercicio:\n",
    "\n",
    "Crea una lista de los números impares entre 0 y 30"
   ]
  },
  {
   "cell_type": "code",
   "execution_count": 142,
   "metadata": {},
   "outputs": [
    {
     "data": {
      "text/plain": [
       "[1, 3, 5, 7, 9, 11, 13, 15, 17, 19, 21, 23, 25, 27, 29]"
      ]
     },
     "execution_count": 142,
     "metadata": {},
     "output_type": "execute_result"
    }
   ],
   "source": [
    "list(range(1, 30, 2))"
   ]
  },
  {
   "cell_type": "code",
   "execution_count": 143,
   "metadata": {},
   "outputs": [],
   "source": [
    "# No tocar, es para que veas la solución"
   ]
  },
  {
   "cell_type": "markdown",
   "metadata": {},
   "source": [
    "## Ejercicio:\n",
    "\n",
    "Crea una  lista llamada amigos que contenga a Juan, Pedro, María y Marta. Y sácala por consola."
   ]
  },
  {
   "cell_type": "code",
   "execution_count": 144,
   "metadata": {},
   "outputs": [
    {
     "data": {
      "text/plain": [
       "['Juan', 'Pedro', 'Maria', 'Marta']"
      ]
     },
     "execution_count": 144,
     "metadata": {},
     "output_type": "execute_result"
    }
   ],
   "source": [
    "amigos = [\"Juan\", \"Pedro\", \"Maria\", \"Marta\"]\n",
    "amigos"
   ]
  },
  {
   "cell_type": "code",
   "execution_count": 145,
   "metadata": {},
   "outputs": [],
   "source": [
    "# No tocar, es para que veas la solución"
   ]
  },
  {
   "cell_type": "markdown",
   "metadata": {},
   "source": [
    "## Ejercicio:\n",
    "\n",
    "Acaban de conocer a Marcos y Sofía y se han hecho amigos. Añádelos al grupo. Y saca la nueva lista por consola."
   ]
  },
  {
   "cell_type": "code",
   "execution_count": 146,
   "metadata": {},
   "outputs": [
    {
     "data": {
      "text/plain": [
       "['Juan', 'Pedro', 'Maria', 'Marta', 'Marcos', 'Sofia']"
      ]
     },
     "execution_count": 146,
     "metadata": {},
     "output_type": "execute_result"
    }
   ],
   "source": [
    "amigos.extend([\"Marcos\", \"Sofia\"])  # Version del profesor\n",
    "amigos += (\"Marcos\", \"Sofia\")\n",
    "amigos"
   ]
  },
  {
   "cell_type": "code",
   "execution_count": 147,
   "metadata": {},
   "outputs": [],
   "source": [
    "# No tocar, es para que veas la solución"
   ]
  },
  {
   "cell_type": "markdown",
   "metadata": {},
   "source": [
    "## Ejercicio:\n",
    "\n",
    "También han conocido a Paula. Añádela al grupo. Y saca la nueva lista por consola."
   ]
  },
  {
   "cell_type": "code",
   "execution_count": 148,
   "metadata": {},
   "outputs": [
    {
     "data": {
      "text/plain": [
       "['Juan', 'Pedro', 'Maria', 'Marta', 'Marcos', 'Sofia', 'Paula']"
      ]
     },
     "execution_count": 148,
     "metadata": {},
     "output_type": "execute_result"
    }
   ],
   "source": [
    "amigos.append(\"Paula\")\n",
    "amigos"
   ]
  },
  {
   "cell_type": "code",
   "execution_count": 149,
   "metadata": {},
   "outputs": [],
   "source": [
    "# No tocar, es para que veas la solución"
   ]
  },
  {
   "cell_type": "markdown",
   "metadata": {},
   "source": [
    "## Ejercicio:\n",
    "\n",
    "Al final Paula salió rana. Sácala de la lista e imprime por consola como ha quedado el grupo"
   ]
  },
  {
   "cell_type": "code",
   "execution_count": 150,
   "metadata": {},
   "outputs": [
    {
     "data": {
      "text/plain": [
       "['Juan', 'Pedro', 'Maria', 'Marta', 'Marcos', 'Sofia']"
      ]
     },
     "execution_count": 150,
     "metadata": {},
     "output_type": "execute_result"
    }
   ],
   "source": [
    "amigos.remove(\"Paula\") # Version del profesor\n",
    "del amigos[6]\n",
    "amigos"
   ]
  },
  {
   "cell_type": "code",
   "execution_count": 151,
   "metadata": {},
   "outputs": [],
   "source": [
    "# No tocar, es para que veas la solución"
   ]
  },
  {
   "cell_type": "markdown",
   "metadata": {},
   "source": [
    "## Ejercicio:\n",
    "\n",
    "¿Hay algún amigo que se llame Alfredo? (Verdadero/Falso)"
   ]
  },
  {
   "cell_type": "code",
   "execution_count": 152,
   "metadata": {},
   "outputs": [
    {
     "data": {
      "text/plain": [
       "False"
      ]
     },
     "execution_count": 152,
     "metadata": {},
     "output_type": "execute_result"
    }
   ],
   "source": [
    "\"Alfredo\" in amigos"
   ]
  },
  {
   "cell_type": "code",
   "execution_count": 153,
   "metadata": {},
   "outputs": [],
   "source": [
    "# No tocar, es para que veas la solución"
   ]
  },
  {
   "cell_type": "markdown",
   "metadata": {},
   "source": [
    "## Ejercicio:\n",
    "\n",
    "Ordena alfabéticamente la lista de amigos y saca el resultado por consola"
   ]
  },
  {
   "cell_type": "code",
   "execution_count": 154,
   "metadata": {},
   "outputs": [
    {
     "data": {
      "text/plain": [
       "['Juan', 'Marcos', 'Maria', 'Marta', 'Pedro', 'Sofia']"
      ]
     },
     "execution_count": 154,
     "metadata": {},
     "output_type": "execute_result"
    }
   ],
   "source": [
    "# amigos.sort(key=str.lower)\n",
    "amigos.sort()\n",
    "amigos"
   ]
  },
  {
   "cell_type": "code",
   "execution_count": 155,
   "metadata": {},
   "outputs": [],
   "source": [
    "# No tocar, es para que veas la solución"
   ]
  },
  {
   "cell_type": "markdown",
   "metadata": {},
   "source": [
    "## Ejercicio:\n",
    "\n",
    "Saca por consola solo los 3 primeros amigos de la lista."
   ]
  },
  {
   "cell_type": "code",
   "execution_count": 156,
   "metadata": {},
   "outputs": [
    {
     "data": {
      "text/plain": [
       "['Juan', 'Marcos', 'Maria']"
      ]
     },
     "execution_count": 156,
     "metadata": {},
     "output_type": "execute_result"
    }
   ],
   "source": [
    "amigos[:3]"
   ]
  },
  {
   "cell_type": "code",
   "execution_count": 157,
   "metadata": {},
   "outputs": [],
   "source": [
    "# No tocar, es para que veas la solución"
   ]
  },
  {
   "cell_type": "markdown",
   "metadata": {},
   "source": [
    "## Ejercicio:\n",
    "\n",
    "Localiza en qué posición de la lista está Pedro (empezando por cero)"
   ]
  },
  {
   "cell_type": "code",
   "execution_count": 158,
   "metadata": {},
   "outputs": [
    {
     "data": {
      "text/plain": [
       "4"
      ]
     },
     "execution_count": 158,
     "metadata": {},
     "output_type": "execute_result"
    }
   ],
   "source": [
    "amigos.index(\"Pedro\")"
   ]
  },
  {
   "cell_type": "code",
   "execution_count": 159,
   "metadata": {},
   "outputs": [],
   "source": [
    "# No tocar, es para que veas la solución"
   ]
  },
  {
   "cell_type": "markdown",
   "metadata": {},
   "source": [
    "## Ejercicio:\n",
    "\n",
    "Usa list comprehension para sacar por consola sólo los nombres de amigos que empiecen por M"
   ]
  },
  {
   "cell_type": "code",
   "execution_count": 160,
   "metadata": {},
   "outputs": [
    {
     "data": {
      "text/plain": [
       "['Juan', 'Marcos', 'Maria', 'Marta', 'Pedro', 'Sofia']"
      ]
     },
     "execution_count": 160,
     "metadata": {},
     "output_type": "execute_result"
    }
   ],
   "source": [
    "amigos"
   ]
  },
  {
   "cell_type": "code",
   "execution_count": 161,
   "metadata": {},
   "outputs": [
    {
     "data": {
      "text/plain": [
       "['Marcos', 'Maria', 'Marta']"
      ]
     },
     "execution_count": 161,
     "metadata": {},
     "output_type": "execute_result"
    }
   ],
   "source": [
    "# La version del profesor genera impresion\n",
    "[print(n) for n in amigos if n.startswith(\"M\")]\n",
    "[i for i in amigos if i.startswith(\"M\")]"
   ]
  },
  {
   "cell_type": "code",
   "execution_count": 162,
   "metadata": {},
   "outputs": [],
   "source": [
    "# No tocar, es para que veas la solución"
   ]
  },
  {
   "cell_type": "markdown",
   "metadata": {},
   "source": [
    "## Ejercicio:\n",
    "\n",
    "Ahora haz lo mismo pero sin usar list comprehension (con for e if \"clásicos\")"
   ]
  },
  {
   "cell_type": "code",
   "execution_count": 163,
   "metadata": {},
   "outputs": [
    {
     "name": "stdout",
     "output_type": "stream",
     "text": [
      "Marcos\n",
      "Maria\n",
      "Marta\n"
     ]
    }
   ],
   "source": [
    "for i in amigos:\n",
    "    if i.startswith(\"M\"):\n",
    "        print(i)"
   ]
  },
  {
   "cell_type": "code",
   "execution_count": 164,
   "metadata": {},
   "outputs": [],
   "source": [
    "# No tocar, es para que veas la solución"
   ]
  },
  {
   "cell_type": "markdown",
   "metadata": {},
   "source": [
    "## Ejercicio:\n",
    "\n",
    "Crea un contador de 'nombres que empiecen por M', recorre toda la lista con un for, suma 1 cada vez que encuentres uno e imprime el resultado final."
   ]
  },
  {
   "cell_type": "code",
   "execution_count": 165,
   "metadata": {},
   "outputs": [
    {
     "data": {
      "text/plain": [
       "3"
      ]
     },
     "execution_count": 165,
     "metadata": {},
     "output_type": "execute_result"
    }
   ],
   "source": [
    "contador_iniciaM = 0\n",
    "\n",
    "for i in amigos:\n",
    "    if i.startswith(\"M\"):\n",
    "        contador_iniciaM += 1\n",
    "\n",
    "contador_iniciaM"
   ]
  },
  {
   "cell_type": "code",
   "execution_count": 166,
   "metadata": {},
   "outputs": [],
   "source": [
    "# No tocar, es para que veas la solución"
   ]
  },
  {
   "cell_type": "markdown",
   "metadata": {},
   "source": [
    "## Ejercicio:\n",
    "\n",
    "A continuación te paso listas con los chicos y las chicas. Están en orden de quien es pareja de quien. Tienes que crear el diccionario pareja_de donde las claves sean los chicos y los valores las chicas. Finalmente imprímelo por consola."
   ]
  },
  {
   "cell_type": "code",
   "execution_count": 167,
   "metadata": {},
   "outputs": [],
   "source": [
    "chicos = ['Juan', 'Marcos', 'Pedro']\n",
    "chicas = ['Marta', 'María', 'Sofía']"
   ]
  },
  {
   "cell_type": "code",
   "execution_count": 168,
   "metadata": {},
   "outputs": [
    {
     "data": {
      "text/plain": [
       "{'Juan': 'Marta', 'Marcos': 'María', 'Pedro': 'Sofía'}"
      ]
     },
     "execution_count": 168,
     "metadata": {},
     "output_type": "execute_result"
    }
   ],
   "source": [
    "dic_chicosychicas = dict(zip(chicos, chicas))\n",
    "dic_chicosychicas"
   ]
  },
  {
   "cell_type": "code",
   "execution_count": 169,
   "metadata": {},
   "outputs": [
    {
     "name": "stdout",
     "output_type": "stream",
     "text": [
      "{'Juan': 'Marta', 'Marcos': 'María', 'Pedro': 'Sofía'}\n"
     ]
    }
   ],
   "source": [
    "# Version IA\n",
    "chicos = ['Juan', 'Marcos', 'Pedro']\n",
    "chicas = ['Marta', 'María', 'Sofía']\n",
    "\n",
    "dict_chicoschicas = {}\n",
    "for chico, chica in zip(chicos, chicas):\n",
    "    dict_chicoschicas[chico] = chica\n",
    "\n",
    "print(dict_chicoschicas)"
   ]
  },
  {
   "cell_type": "code",
   "execution_count": 170,
   "metadata": {},
   "outputs": [],
   "source": [
    "# No tocar, es para que veas la solución"
   ]
  },
  {
   "cell_type": "markdown",
   "metadata": {},
   "source": [
    "## Ejercicio:\n",
    "\n",
    "Saca por consola la pareja de Marcos"
   ]
  },
  {
   "cell_type": "code",
   "execution_count": 171,
   "metadata": {},
   "outputs": [
    {
     "data": {
      "text/plain": [
       "'María'"
      ]
     },
     "execution_count": 171,
     "metadata": {},
     "output_type": "execute_result"
    }
   ],
   "source": [
    "dic_chicosychicas[\"Marcos\"]"
   ]
  },
  {
   "cell_type": "code",
   "execution_count": 172,
   "metadata": {},
   "outputs": [],
   "source": [
    "# No tocar, es para que veas la solución"
   ]
  },
  {
   "cell_type": "markdown",
   "metadata": {},
   "source": [
    "## Ejercicio:\n",
    "\n",
    "Al final Marcos y María han roto, y ahora la nueva pareja de Marcos es Paula. Actualízadlo en el diccionario e imprime como queda ahora el diccionario."
   ]
  },
  {
   "cell_type": "code",
   "execution_count": 173,
   "metadata": {},
   "outputs": [
    {
     "data": {
      "text/plain": [
       "{'Juan': 'Marta', 'Marcos': 'Paula', 'Pedro': 'Sofía'}"
      ]
     },
     "execution_count": 173,
     "metadata": {},
     "output_type": "execute_result"
    }
   ],
   "source": [
    "dic_chicosychicas[\"Marcos\"] = \"Paula\"\n",
    "dic_chicosychicas"
   ]
  },
  {
   "cell_type": "code",
   "execution_count": 174,
   "metadata": {},
   "outputs": [],
   "source": [
    "# No tocar, es para que veas la solución"
   ]
  },
  {
   "cell_type": "markdown",
   "metadata": {},
   "source": [
    "## Ejercicio:\n",
    "\n",
    "El grupo se ha puesto de parte de María, así que han echado a Marcos y a su nueva pareja. Sácalos del grupo e imprime cómo queda."
   ]
  },
  {
   "cell_type": "code",
   "execution_count": 175,
   "metadata": {},
   "outputs": [
    {
     "data": {
      "text/plain": [
       "{'Juan': 'Marta', 'Pedro': 'Sofía'}"
      ]
     },
     "execution_count": 175,
     "metadata": {},
     "output_type": "execute_result"
    }
   ],
   "source": [
    "del dic_chicosychicas[\"Marcos\"]\n",
    "dic_chicosychicas"
   ]
  },
  {
   "cell_type": "code",
   "execution_count": 129,
   "metadata": {},
   "outputs": [
    {
     "data": {
      "text/plain": [
       "{'Juan': 'Marta', 'Pedro': 'Sofía'}"
      ]
     },
     "execution_count": 129,
     "metadata": {},
     "output_type": "execute_result"
    }
   ],
   "source": [
    "#No tocar, es para que veas la solución"
   ]
  },
  {
   "cell_type": "markdown",
   "metadata": {},
   "source": [
    "## Ejercicio:\n",
    "\n",
    "Hay que actualizar la lista de chicos y chicas. Hazlo siguiendo estas instrucciones:\n",
    "\n",
    "1. Crea nuevas listas vacías de chicos y chicas\n",
    "2. Recorre el diccinario pareja_de con un for y mediante tuple unpacking separa cada item del diccionario en chico y chica\n",
    "3. Añade chico y chica a sus respectivas listas\n",
    "4. Saca por pantalla chicos y chicas"
   ]
  },
  {
   "cell_type": "code",
   "execution_count": 180,
   "metadata": {},
   "outputs": [
    {
     "name": "stdout",
     "output_type": "stream",
     "text": [
      "['Juan', 'Pedro']\n",
      "['Marta', 'Sofía']\n"
     ]
    }
   ],
   "source": [
    "pareja_de = {'Juan': 'Marta', 'Pedro': 'Sofía'}\n",
    "chicos1 = []\n",
    "chicas1 = []\n",
    "\n",
    "for chicos, chicas in pareja_de.items():\n",
    "    chicos1.append(chicos)\n",
    "    chicas1.append(chicas)\n",
    "\n",
    "print(chicos1)\n",
    "print(chicas1)"
   ]
  },
  {
   "cell_type": "code",
   "execution_count": 130,
   "metadata": {},
   "outputs": [
    {
     "name": "stdout",
     "output_type": "stream",
     "text": [
      "['Juan', 'Pedro']\n",
      "['Marta', 'Sofía']\n"
     ]
    }
   ],
   "source": [
    "#No tocar, es para que veas la solución"
   ]
  },
  {
   "cell_type": "markdown",
   "metadata": {},
   "source": [
    "## Ejercicio:\n",
    "\n",
    "Extrae la palabra 'perro' del siguiente objeto."
   ]
  },
  {
   "cell_type": "code",
   "execution_count": 191,
   "metadata": {},
   "outputs": [],
   "source": [
    "obj = [1, 2, {'nombre': 'Manuel', 'ciudad': 'Madrid', 'vive_con': [\n",
    "    {'mujer': 'Julia', 'hijo': 'Andres', 'mascotas': ['gato', 'perro']}, 'ah y un hamster']}, 4, 5]"
   ]
  },
  {
   "cell_type": "code",
   "execution_count": 182,
   "metadata": {},
   "outputs": [
    {
     "data": {
      "text/plain": [
       "5"
      ]
     },
     "execution_count": 182,
     "metadata": {},
     "output_type": "execute_result"
    }
   ],
   "source": [
    "len(obj)"
   ]
  },
  {
   "cell_type": "code",
   "execution_count": 205,
   "metadata": {},
   "outputs": [
    {
     "data": {
      "text/plain": [
       "'perro'"
      ]
     },
     "execution_count": 205,
     "metadata": {},
     "output_type": "execute_result"
    }
   ],
   "source": [
    "obj[2]['vive_con'][0]['mascotas'][1]"
   ]
  },
  {
   "cell_type": "code",
   "execution_count": 132,
   "metadata": {},
   "outputs": [
    {
     "data": {
      "text/plain": [
       "'perro'"
      ]
     },
     "execution_count": 132,
     "metadata": {},
     "output_type": "execute_result"
    }
   ],
   "source": [
    "#No tocar, es para que veas la solución"
   ]
  },
  {
   "cell_type": "markdown",
   "metadata": {},
   "source": [
    "## Ejercicio:\n",
    "\n",
    "Crea una función que se llame imc para calcular el índice de masa corporal a partir de la estatura (en metros) y el peso (en kilos). \n",
    "\n",
    "La fórmula es IMC = peso (kg) / estatura (m) al cuadrado.\n",
    "\n",
    "Pruébala pasándole por ejemplo tus datos."
   ]
  },
  {
   "cell_type": "code",
   "execution_count": 247,
   "metadata": {},
   "outputs": [
    {
     "data": {
      "text/plain": [
       "30.864197530864196"
      ]
     },
     "execution_count": 247,
     "metadata": {},
     "output_type": "execute_result"
    }
   ],
   "source": [
    "def imc(est, kg):\n",
    "    resultado = kg/(est**2)\n",
    "    return resultado\n",
    "\n",
    "\n",
    "imc(1.68, 70)"
   ]
  },
  {
   "cell_type": "code",
   "execution_count": 133,
   "metadata": {},
   "outputs": [
    {
     "data": {
      "text/plain": [
       "30.864197530864196"
      ]
     },
     "execution_count": 133,
     "metadata": {},
     "output_type": "execute_result"
    }
   ],
   "source": [
    "#No tocar, es para que veas la solución"
   ]
  },
  {
   "cell_type": "markdown",
   "metadata": {},
   "source": [
    "## Ejercicio:\n",
    "\n",
    "Crea la misma función pero como una lambda que meta el dato en la variable resultado. Pruébala de nuevo."
   ]
  },
  {
   "cell_type": "code",
   "execution_count": 255,
   "metadata": {},
   "outputs": [
    {
     "data": {
      "text/plain": [
       "30.864197530864196"
      ]
     },
     "execution_count": 255,
     "metadata": {},
     "output_type": "execute_result"
    }
   ],
   "source": [
    "# metodo_lamda= lambda peso, estatura: peso/(estatura**2)\n",
    "def metodo_lamda(peso, estatura): return peso/(estatura**2)\n",
    "\n",
    "\n",
    "metodo_lamda(100, 1.8)"
   ]
  },
  {
   "cell_type": "code",
   "execution_count": 134,
   "metadata": {},
   "outputs": [
    {
     "data": {
      "text/plain": [
       "30.864197530864196"
      ]
     },
     "execution_count": 134,
     "metadata": {},
     "output_type": "execute_result"
    }
   ],
   "source": [
    "#No tocar, es para que veas la solución"
   ]
  },
  {
   "cell_type": "markdown",
   "metadata": {},
   "source": [
    "## Ejercicio:\n",
    "\n",
    "Crea un pequeño programa que:\n",
    "\n",
    "1. Pregunte al usuario por su peso en kilos y su estatura en centímetros\n",
    "2. Llame a la función imc (acuérdate de transformar la estatura a metros)\n",
    "3. Si imc >25 aconseje al usuario un poco de dieta y ejercicio"
   ]
  },
  {
   "cell_type": "code",
   "execution_count": 257,
   "metadata": {},
   "outputs": [
    {
     "name": "stdout",
     "output_type": "stream",
     "text": [
      "\n",
      " Umm, tu imc es de 30.86 quizá sería recomendable un poco de dieta y ejercicio\n"
     ]
    }
   ],
   "source": [
    "pregun_peso = int(input(\"Introduce tu peso en kilos: \"))\n",
    "pregun_estatura = int(input(\"Introduce tu estatura en centimetros: \"))\n",
    "pregun_estatura = pregun_estatura/100\n",
    "\n",
    "resultado = imc(pregun_estatura, pregun_peso)\n",
    "if resultado > 25:\n",
    "    print(\"\\n Umm, tu imc es de %.2f quizá sería recomendable un poco de dieta y ejercicio\" % resultado)\n",
    "else:\n",
    "    print(\"Estas en buena forma\")"
   ]
  },
  {
   "cell_type": "code",
   "execution_count": 230,
   "metadata": {},
   "outputs": [
    {
     "name": "stdout",
     "output_type": "stream",
     "text": [
      "Umm, tu imc es de 30.864197530864196 quizá sería recomendable un poco de dieta y ejercicio\n"
     ]
    }
   ],
   "source": [
    "pregun_peso = float(input(\"Introduce tu peso en kilos: \"))\n",
    "pregun_estatura = float(input(\"Introduce tu estatura en centimetros: \"))\n",
    "pregun_estatura = pregun_estatura/100\n",
    "\n",
    "if imc(pregun_estatura, pregun_peso) > 25:\n",
    "    print(f\"Umm, tu imc es de {\n",
    "          imc(pregun_estatura, pregun_peso)} quizá sería recomendable un poco de dieta y ejercicio\")\n",
    "else:\n",
    "    print(\"Estas en buena forma\")"
   ]
  },
  {
   "cell_type": "code",
   "execution_count": 137,
   "metadata": {},
   "outputs": [
    {
     "name": "stdout",
     "output_type": "stream",
     "text": [
      "\n",
      " Introduce tu peso en kilos: 100\n",
      "\n",
      " Introduce tu estatura en centímetros: 180\n",
      "\n",
      " Umm, tu imc es de 30.86 quizá sería recomendable un poco de dieta y ejercicio\n"
     ]
    }
   ],
   "source": [
    "#No tocar, es para que veas la solución"
   ]
  },
  {
   "cell_type": "markdown",
   "metadata": {},
   "source": [
    "## Ejercicio:\n",
    "\n",
    "Importa los módulos random y statistics y crea un programa que:\n",
    "\n",
    "Cree una lista vacía llamada imcs\n",
    "\n",
    "Repita 100 veces el siguiente proceso:\n",
    "\n",
    "    * Calcular aletoriamente un peso entre 50 y 100\n",
    "    * Calcular aletoriamente una estatura entre 150 y 200 y convertirla a metros\n",
    "    * Llamar a la función imc y añadir el resultado a la lista imcs\n",
    "   \n",
    "Usando funciones del paquete statistics imprima por pantalla la media y la desviación típica de la distribución final obtenida.\n",
    "\n",
    "Pista: puedes buscar las funciones que te ayuden a hacerlo en:\n",
    "\n",
    "https://www.w3schools.com/python/module_random.asp\n",
    "\n",
    "https://www.w3schools.com/python/ref_stat_mean.asp\n"
   ]
  },
  {
   "cell_type": "code",
   "execution_count": 259,
   "metadata": {},
   "outputs": [],
   "source": [
    "import random\n",
    "import statistics\n",
    "\n",
    "imcs = []"
   ]
  },
  {
   "cell_type": "code",
   "execution_count": 244,
   "metadata": {},
   "outputs": [
    {
     "name": "stdout",
     "output_type": "stream",
     "text": [
      "55\n"
     ]
    },
    {
     "data": {
      "text/plain": [
       "1.94"
      ]
     },
     "execution_count": 244,
     "metadata": {},
     "output_type": "execute_result"
    }
   ],
   "source": [
    "peso_random = random.randint(50, 100)\n",
    "print(peso_random)\n",
    "estatura_random = (random.randint(150, 200)/100)\n",
    "estatura_random"
   ]
  },
  {
   "cell_type": "code",
   "execution_count": 245,
   "metadata": {},
   "outputs": [
    {
     "data": {
      "text/plain": [
       "14.613667764905943"
      ]
     },
     "execution_count": 245,
     "metadata": {},
     "output_type": "execute_result"
    }
   ],
   "source": [
    "imc(estatura_random, peso_random)"
   ]
  },
  {
   "cell_type": "code",
   "execution_count": 267,
   "metadata": {},
   "outputs": [
    {
     "name": "stdout",
     "output_type": "stream",
     "text": [
      "25.219528927384957\n",
      "6.679135178120023\n"
     ]
    }
   ],
   "source": [
    "# Version del profesor\n",
    "\n",
    "imcs_prof = []\n",
    "\n",
    "for cada in range(100):\n",
    "    peso = random.randint(50, 100)\n",
    "    estatura = random.randint(150, 200)\n",
    "    estatura = estatura/100\n",
    "    resultado = imc(estatura, peso)\n",
    "    imcs_prof.append(resultado)\n",
    "\n",
    "print(statistics.mean(imcs_prof))\n",
    "print(statistics.stdev(imcs_prof))"
   ]
  },
  {
   "cell_type": "code",
   "execution_count": 136,
   "metadata": {},
   "outputs": [
    {
     "name": "stdout",
     "output_type": "stream",
     "text": [
      "27.78832633918493\n",
      "9.122130266530384\n"
     ]
    }
   ],
   "source": [
    "#No tocar, es para que veas la solución"
   ]
  }
 ],
 "metadata": {
  "kernelspec": {
   "display_name": "Python 3",
   "language": "python",
   "name": "python3"
  },
  "language_info": {
   "codemirror_mode": {
    "name": "ipython",
    "version": 3
   },
   "file_extension": ".py",
   "mimetype": "text/x-python",
   "name": "python",
   "nbconvert_exporter": "python",
   "pygments_lexer": "ipython3",
   "version": "3.12.0"
  },
  "toc": {
   "base_numbering": 1,
   "nav_menu": {},
   "number_sections": true,
   "sideBar": true,
   "skip_h1_title": false,
   "title_cell": "Table of Contents",
   "title_sidebar": "Contents",
   "toc_cell": false,
   "toc_position": {},
   "toc_section_display": true,
   "toc_window_display": true
  },
  "varInspector": {
   "cols": {
    "lenName": 16,
    "lenType": 16,
    "lenVar": 40
   },
   "kernels_config": {
    "python": {
     "delete_cmd_postfix": "",
     "delete_cmd_prefix": "del ",
     "library": "var_list.py",
     "varRefreshCmd": "print(var_dic_list())"
    },
    "r": {
     "delete_cmd_postfix": ") ",
     "delete_cmd_prefix": "rm(",
     "library": "var_list.r",
     "varRefreshCmd": "cat(var_dic_list()) "
    }
   },
   "types_to_exclude": [
    "module",
    "function",
    "builtin_function_or_method",
    "instance",
    "_Feature"
   ],
   "window_display": false
  }
 },
 "nbformat": 4,
 "nbformat_minor": 4
}
